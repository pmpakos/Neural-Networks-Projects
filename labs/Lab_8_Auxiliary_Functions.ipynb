{
    "nbformat_minor": 1, 
    "cells": [
        {
            "source": "%%writefile auxiliary.py\n\n###########################################################################################\n########### computing #####################################################################\n###########################################################################################\nimport numpy as np\nfrom numpy import linspace, sin, pi, array, zeros, hstack, cumsum\nfrom numpy import vectorize, ones\nfrom numpy.random import seed, random, randint\n\n# Random generates n numbers between xa and xb\ndef Random(n, xa, xb): return random(n) * (xb - xa) + xa\n\n# Flip generates a Bernoulli variable; throw a coin with probability p\ndef FlipCoin(p):\n    if p==1.0: return True\n    if p==0.0: return False\n    if random()<=p: return True\n    return False\n\n# SimpleChromo splits x into n unequal parts\ndef SimpleChromo(x, n):\n    vals = random(n)\n    sumv = sum(vals)\n    return x * vals / sumv\n\n# Fitness function: map objective function into [0, 1]\n#  Y -- objective values\ndef Fitness(Y):\n    ymin, ymax = min(Y), max(Y)\n    if abs(ymax - ymin) < 1e-14: return ones(len(Y))\n    return (ymax - Y) / (ymax - ymin)\n\n\n# SortPop sorts individuals by fitness (decreasing order)\n#  C -- chromosomes/population\n#  Y -- objective values\n#  F -- fitness\ndef SortPop(C, Y, F):\n    I = F.argsort()[::-1] # the [::-1] is a trick to reverse the sorting order\n    C = C[I]              # sorted chromosomes\n    Y = Y[I]              # sorted objective values\n    F = F[I]              # sorted fitness\n    return C, Y, F\n\n# PrintPop prints all individuals\n#  C    -- chromosomes/population\n#  Y    -- objective values\n#  xFcn -- converts C to X values\n#  F    -- fitness\n#  P    -- probabilities\n#  M    -- cumulated probabilities\ndef PrintPop(C, Y, xFcn, F=None, P=None, M=None, showC=False):\n    print '%7s%7s' % ('x', 'y'),\n    X = array([xFcn(c) for c in C])\n    if showC:\n        L = []\n        for c in C:\n            l = ''\n            for v in c: l += '%7.3f' % v\n            L.append(l)\n        nc = str(len(C[0]) * 7)\n        print ('%'+nc+'s') % ('chromosome/genes'),\n    if np.any(F)!=None: print '%8s' % 'fitness',\n    if np.any(P)!=None: print '%8s' % 'prob',\n    if np.any(M)!=None: print '%8s' % 'cum.prob',\n    print\n    for i, x in enumerate(X):\n        print '%7.2f%7.2f' % (x, Y[i]),\n        if showC: print L[i],\n        if np.any(F)!=None: print '%8.3f' % F[i],\n        if np.any(P)!=None: print '%8.3f' % P[i],\n        if np.any(M)!=None: print '%8.3f' % M[i],\n        print\n\n# RouletteSelect selects n individuals\n#  M -- cumulated probabilities\ndef RouletteSelect(M, n, sample=None):\n    if np.any(sample)==None: sample = random(n)\n    S = zeros(n, dtype=int) # selected individuals\n    for i, s in enumerate(sample):\n        for j, m in enumerate(M):\n            if m > s:\n                S[i] = j\n                break\n    return S\n\n# FilterPairs generates 2 x ninds/2 lists from selected individuals\n# Try to avoid repeated indices in pairs\ndef FilterPairs(S):\n    ninds = len(S)\n    A = zeros(ninds/2, dtype=int)\n    B = zeros(ninds/2, dtype=int)\n    for i in range(ninds/2):\n        a, b = S[2*i], S[2*i+1]\n        if a == b:\n            for s in S:\n                if s != a:\n                    b = s\n                    break\n        A[i], B[i] = a, b\n    return A, B\n\n###########################################################################################\n########### plotting ######################################################################\n###########################################################################################\n\nfrom matplotlib.patches import Rectangle, FancyArrowPatch\nfrom pylab import grid, xlabel, ylabel, legend, plot, show, close, subplot\nfrom pylab import clf, gca, xticks, text, axis, savefig, rcParams\n\n# Gll adds grid, labels and legend\ndef Gll(xl, yl, legpos=None): grid(); xlabel(xl); ylabel(yl); legend(loc=legpos)\n\n# PlotProbBins plots probabilities bins\n#  X -- population\n#  P -- probabilities\ndef PlotProbBins(X, P):\n    rcParams.update({'figure.figsize':[800/72.27,200/72.27]})\n    x0, Tk = 0.0, [0.0]\n    for i in range(len(X)):\n        gca().add_patch(Rectangle([x0, 0], P[i], 0.2, color='#d5e7ed', ec='black', clip_on=0))\n        ha = 'center'\n        if i==len(X)-1: ha = 'left' # last one\n        text(x0+P[i]/2.0, 0.1, '%.1f'%X[i], ha=ha)\n        x0 += P[i]\n        Tk.append(x0)\n    xticks(Tk, ['%.2f'%v for v in Tk])\n    axis('equal')\n    gca().get_yaxis().set_visible(False)\n    for dir in ['left', 'right', 'top']:\n        gca().spines[dir].set_visible(False)\n    xlabel('cumulated probability')\n    grid()\n    axis([0, 1, 0, 0.2])\n\n# DrawChromo draws one chromosome\ndef DrawChromo(key, A, pos, y0, swap_colors, red='#e3a9a9', blue='#c8d0e3'):\n    nbases = len(A)\n    x0, l = 0.1, 1.0 / float(nbases)\n    red, blue = red, blue\n    text(x0-0.01, y0+0.05, key, ha='right')\n    if swap_colors: red, blue = blue, red\n    for i in range(0, pos):\n        gca().add_patch(Rectangle([x0, y0], l, 0.1, color=red, ec='black'))\n        text(x0+l/2.0, y0+0.05, '%.3f'%A[i], ha='center')\n        x0 += l\n    for i in range(pos, nbases):\n        gca().add_patch(Rectangle([x0, y0], l, 0.1, color=blue, ec='black'))\n        text(x0+l/2.0, y0+0.05, '%.3f'%A[i], ha='center')\n        x0 += l\n\n# DrawCrossover draws crossover process\ndef DrawCrossover(A, B, a, b, pos):\n    rcParams.update({'figure.figsize':[800/72.27,400/72.27]})\n    DrawChromo('A', A, pos, 0.35, 0)\n    DrawChromo('B', B, pos, 0.25, 1)\n    DrawChromo('a', a, pos, 0.10, 0, blue='#e3a9a9')\n    DrawChromo('b', b, pos, 0.00, 0, red='#c8d0e3')\n    axis('equal')\n    axis([0, 1.2, 0, 0.4])\n    gca().get_yaxis().set_visible(False)\n    gca().get_xaxis().set_visible(False)\n    for dir in ['left', 'right', 'top', 'bottom']:\n        gca().spines[dir].set_visible(False)\n    gca().add_patch(FancyArrowPatch([0.6,0.25], [0.6, 0.2], fc='#9fffde', mutation_scale=30))", 
            "cell_type": "code", 
            "execution_count": 1, 
            "outputs": [
                {
                    "output_type": "stream", 
                    "name": "stdout", 
                    "text": "Overwriting auxiliary.py\n"
                }
            ], 
            "metadata": {}
        }, 
        {
            "source": "", 
            "cell_type": "code", 
            "execution_count": null, 
            "outputs": [], 
            "metadata": {}
        }
    ], 
    "nbformat": 4, 
    "metadata": {
        "kernelspec": {
            "display_name": "Python 2 with Spark 1.6 (Unsupported)", 
            "name": "python2", 
            "language": "python"
        }, 
        "language_info": {
            "mimetype": "text/x-python", 
            "nbconvert_exporter": "python", 
            "version": "2.7.11", 
            "name": "python", 
            "pygments_lexer": "ipython2", 
            "file_extension": ".py", 
            "codemirror_mode": {
                "version": 2, 
                "name": "ipython"
            }
        }
    }
}