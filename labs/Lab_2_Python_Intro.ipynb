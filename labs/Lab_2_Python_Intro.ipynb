{
    "nbformat_minor": 1, 
    "cells": [
        {
            "source": "# Python\n\n\u0397 [Python](https://www.python.org/) \u03b5\u03af\u03bd\u03b1\u03b9 \u03bc\u03b9\u03b1 \u03b4\u03c5\u03bd\u03b1\u03bc\u03b9\u03ba\u03ae \u03b3\u03bb\u03ce\u03c3\u03c3\u03b1 \u03c0\u03c1\u03bf\u03b3\u03c1\u03b1\u03bc\u03bc\u03b1\u03c4\u03b9\u03c3\u03bc\u03bf\u03cd, \u03bc\u03b5 \u03b1\u03c5\u03c4\u03cc\u03bc\u03b1\u03c4\u03b7 \u03b4\u03b9\u03b1\u03c7\u03b5\u03af\u03c1\u03b9\u03c3\u03b7 \u03bc\u03bd\u03ae\u03bc\u03b7\u03c2 \u03c0\u03bf\u03c5 \u03c5\u03c0\u03bf\u03c3\u03c4\u03b7\u03c1\u03af\u03b6\u03b5\u03b9 \u03b1\u03bd\u03c4\u03b9\u03ba\u03b5\u03b9\u03bc\u03b5\u03bd\u03bf\u03c3\u03c4\u03c1\u03b1\u03c6\u03ae, \u03c3\u03c5\u03bd\u03b1\u03c1\u03c4\u03b7\u03c3\u03b9\u03b1\u03ba\u03cc \u03ba\u03b1\u03b9 \u03b4\u03b9\u03b1\u03b4\u03b9\u03ba\u03b1\u03c3\u03c4\u03b9\u03ba\u03cc \u03c0\u03c1\u03bf\u03b3\u03c1\u03b1\u03bc\u03bc\u03b1\u03c4\u03b9\u03c3\u03bc\u03cc.\n\n\u03a5\u03c0\u03bf\u03c3\u03c4\u03b7\u03c1\u03af\u03b6\u03bf\u03bd\u03c4\u03b1\u03b9 \u03c0\u03b1\u03c1\u03ac\u03bb\u03bb\u03b7\u03bb\u03b1 2 \u03b5\u03ba\u03b4\u03cc\u03c3\u03b5\u03b9\u03c2 \u03c4\u03b7\u03c2 python: \u03b7 **2.7** \u03ba\u03b1\u03b9 \u03b7 **3.6**. \u0395\u03bc\u03b5\u03af\u03c2 \u03c3\u03c4\u03b1 \u03c0\u03bb\u03b1\u03af\u03c3\u03b9\u03b1 \u03c4\u03bf\u03c5 \u03b5\u03c1\u03b3\u03b1\u03c3\u03c4\u03b7\u03c1\u03af\u03bf\u03c5 \u03b8\u03b1 \u03c7\u03c1\u03b7\u03c3\u03b9\u03bc\u03bf\u03c0\u03bf\u03b9\u03ae\u03c3\u03bf\u03c5\u03bc\u03b5 \u03c4\u03b7\u03bd 2.7.\n\n## \u0394\u03b9\u03b1\u03c6\u03bf\u03c1\u03ad\u03c2 Python 2 me 3\n\n\u0394\u03b5\u03bd \u03c5\u03c0\u03ac\u03c1\u03c7\u03bf\u03c5\u03bd \u03bc\u03b5\u03b3\u03ac\u03bb\u03bb\u03b5\u03c2 \u03b4\u03b9\u03b1\u03c6\u03bf\u03c1\u03ad\u03c2 \u03b1\u03bd\u03ac\u03bc\u03b5\u03c3\u03b1 \u03c3\u03c4\u03b9\u03c2 python 2 \u03ba\u03b1\u03b9 3. \u0397 \u03ba\u03c5\u03c1\u03b9\u03cc\u03c4\u03b5\u03c1\u03b5\u03c2 \u03b1\u03c0\u03cc \u03b1\u03c5\u03c4\u03ad\u03c2 \u03c0\u03bf\u03c5 \u03c3\u03c5\u03bd\u03b1\u03bd\u03c4\u03ac\u03bc\u03b5 \u03b5\u03af\u03bd\u03b1\u03b9 \u03b7 \u03b5\u03bd\u03c4\u03bf\u03bb\u03ae `print` \u03ba\u03b1\u03b9 \u03bf \u03c4\u03b5\u03bb\u03b5\u03c3\u03c4\u03ae\u03c2 \u03c4\u03b7\u03c2 \u03b4\u03b9\u03b1\u03af\u03c1\u03b5\u03c3\u03b7\u03c2 `/`:\n\n```\n# python 2:\nprint 'hi'\n# python 3:\nprint('hi')\n\n# python 2:\n5/2 # \u03ba\u03ac\u03bd\u03b5\u03b9 2\n# python 3:\n5/2 # \u03ba\u03ac\u03bd\u03b5\u03b9 2.5\n```\n\n\u0397 python 3 \u03b5\u03af\u03c7\u03b5 \u03b1\u03c1\u03b3\u03ae \u03c5\u03b9\u03bf\u03b8\u03ad\u03c4\u03b7\u03c3\u03b7 \u03b1\u03c0\u03cc \u03c4\u03b9\u03c2 \u03ae\u03b4\u03b7 \u03c5\u03c0\u03ac\u03c1\u03c7\u03bf\u03c5\u03c3\u03b5\u03c2 \u03b2\u03b9\u03b2\u03bb\u03b9\u03bf\u03b8\u03ae\u03ba\u03b5\u03c2 \u03c4\u03b7\u03c2 python, \u03b5\u03bd\u03ce \u03bf\u03b9 \u03c0\u03b5\u03c1\u03b9\u03c3\u03c3\u03cc\u03c4\u03b5\u03c1\u03b5\u03c2 \u03b1\u03c0\u03cc \u03b1\u03c5\u03c4\u03ad\u03c2 \u03b5\u03be\u03b1\u03ba\u03bf\u03bb\u03bf\u03c5\u03b8\u03bf\u03cd\u03bd \u03bd\u03b1 \u03c5\u03c0\u03bf\u03c3\u03c4\u03af\u03b7\u03c1\u03b6\u03bf\u03c5\u03bd python 2. \u0388\u03c7\u03bf\u03c5\u03bd \u03c5\u03c0\u03ac\u03c1\u03be\u03b5\u03b9 \u03ba\u03b1\u03b9 \u03c0\u03c1\u03bf\u03c3\u03c0\u03ac\u03b8\u03b5\u03b9\u03b5\u03c2 \u03b5\u03bd\u03bf\u03c0\u03bf\u03af\u03b7\u03c3\u03b7\u03c2 \u03c4\u03b7\u03c2 \u03c3\u03c5\u03bc\u03c0\u03b5\u03c1\u03b9\u03c6\u03bf\u03c1\u03ac\u03c2 \u03c4\u03c9\u03bd 2 \u03b3\u03bb\u03c9\u03c3\u03c3\u03ce\u03bd ([\\_\\_future\\_\\_](https://docs.python.org/2/library/__future__.html), [six](https://pythonhosted.org/six/) modules) \u03ce\u03c3\u03c4\u03b5 \u03bf \u03af\u03b4\u03b9\u03bf\u03c2 \u03ba\u03ce\u03b4\u03b9\u03ba\u03b1\u03c2 \u03bd\u03b1 \u03c4\u03c1\u03ad\u03c7\u03b5\u03b9 \u03ba\u03b1\u03b9 \u03c3\u03b5 python2 \u03ba\u03b1\u03b9 \u03c3\u03b5 python3.\n\n\u03a0\u03b9\u03bf \u03b1\u03bd\u03b1\u03bb\u03c5\u03c4\u03b9\u03ba\u03ac \u03bf\u03b9 \u03b4\u03b9\u03b1\u03c6\u03bf\u03c1\u03ad\u03c2 \u03c4\u03c9\u03bd 2 \u03b5\u03ba\u03b4\u03cc\u03c3\u03b5\u03c9\u03bd \u03c5\u03c0\u03ac\u03c1\u03c7\u03bf\u03c5\u03bd [\u03b5\u03b4\u03ce](http://sebastianraschka.com/Articles/2014_python_2_3_key_diff.html).\n\n## Package Management\n\n\u03a4\u03bf \u03b2\u03b1\u03c3\u03b9\u03ba\u03cc \u03b1\u03c0\u03bf\u03b8\u03b5\u03c4\u03ae\u03c1\u03b9\u03bf \u03c0\u03b1\u03ba\u03ad\u03c4\u03c9\u03bd \u03b3\u03b9\u03b1 \u03c4\u03b7\u03bd python \u03b5\u03af\u03bd\u03b1\u03b9 \u03c4\u03bf [PyPI](https://pypi.python.org/pypi), \u03b5\u03bd\u03ce \u03b7 \u03b5\u03b3\u03ba\u03b1\u03c4\u03ac\u03c3\u03c4\u03b1\u03c3\u03ae \u03c4\u03bf\u03c5\u03c2 \u03b3\u03af\u03bd\u03b5\u03c4\u03b1\u03b9 \u03bc\u03ad\u03c3\u03c9 \u03c4\u03bf\u03c5 [pip](https://pip.pypa.io/en/stable/).\n\n\u0393\u03b9\u03b1 \u03c4\u03b7\u03bd \u03b5\u03b3\u03ba\u03b1\u03c4\u03ac\u03c3\u03c4\u03b1\u03c3\u03b7 \u03c4\u03bf\u03c5 pip \u03ba\u03b1\u03c4\u03b5\u03b2\u03ac\u03b6\u03bf\u03c5\u03bc\u03b5 \u03c4\u03bf [get-pip.py](https://bootstrap.pypa.io/get-pip.py) \u03ba\u03b1\u03b9 \u03c4\u03bf \u03c4\u03c1\u03ad\u03c7\u03bf\u03c5\u03bc\u03b5 \u03bc\u03b5 \u03c4\u03b7\u03bd \u03c0\u03b1\u03c1\u03b1\u03ba\u03ac\u03c4\u03c9 \u03b5\u03bd\u03c4\u03bf\u03bb\u03ae:\n\n```\npython get-pip.py\n```\n\n\u03a4\u03ce\u03c1\u03b1 \u03bc\u03c0\u03bf\u03c1\u03bf\u03cd\u03bc\u03b5 \u03bd\u03b1 \u03b5\u03b3\u03ba\u03b1\u03b8\u03b9\u03c3\u03c4\u03bf\u03cd\u03bc\u03b5 \u03c0\u03b9\u03b1 \u03c0\u03b1\u03ba\u03ad\u03c4\u03b1 \u03bc\u03ad\u03c3\u03c9 \u03c4\u03bf\u03c5 pip. \u03a0\u03c7 \u03b3\u03b9\u03b1 \u03c4\u03b7\u03bd \u03b5\u03b3\u03ba\u03b1\u03c4\u03ac\u03c3\u03c4\u03b1\u03c3\u03b7 \u03c4\u03bf\u03c5 \u03c0\u03b1\u03ba\u03ad\u03c4\u03bf\u03c5 *numpy* \u03b1\u03c1\u03ba\u03b5\u03af \u03bd\u03b1 \u03b3\u03c1\u03ac\u03c8\u03bf\u03c5\u03bc\u03b5 \u03c4\u03b7\u03bd \u03c0\u03b1\u03c1\u03b1\u03ba\u03ac\u03c4\u03c9 \u03b5\u03bd\u03c4\u03bf\u03bb\u03ae:\n\n```\npip install numpy\n```\n\n## \u039b\u03af\u03b3\u03b1 \u03bb\u03cc\u03b3\u03b9\u03b1 \u03b3\u03b9\u03b1 \u03c4\u03b7 \u03b4\u03bf\u03bc\u03ae \u03c4\u03bf\u03c5 \u03c0\u03c1\u03bf\u03b3\u03c1\u03ac\u03bc\u03bc\u03b1\u03c4\u03bf\u03c2\n\n\u03a0\u03c1\u03bf\u03ba\u03b5\u03b9\u03bc\u03ad\u03bd\u03bf\u03c5 \u03bd\u03b1 \u03ba\u03c1\u03b1\u03c4\u03ae\u03c3\u03b5\u03b9 \u03c0\u03b9\u03bf \u03b1\u03c0\u03bb\u03ae \u03ba\u03b1\u03b9 \u03b5\u03c5\u03b1\u03bd\u03ac\u03b3\u03bd\u03c9\u03c3\u03c4\u03b7 \u03c3\u03cd\u03bd\u03c4\u03b1\u03be\u03b7, \u03b7 python **\u03b4\u03b5\u03bd** \u03c5\u03c0\u03bf\u03c3\u03c4\u03b7\u03c1\u03af\u03b6\u03b5\u03b9 \u03b5\u03c1\u03c9\u03c4\u03b7\u03bc\u03b1\u03c4\u03b9\u03ba\u03ac `(;)` \u03ba\u03b1\u03b9 \u03bc\u03c0\u03bb\u03cc\u03ba \u03ba\u03ce\u03b4\u03b9\u03ba\u03b1 \u03c3\u03b5 \u03b1\u03b3\u03ba\u03cd\u03bb\u03b5\u03c2 `{...}` \u03cc\u03c0\u03c9\u03c2 \u03bc\u03c0\u03bf\u03c1\u03b5\u03af \u03bd\u03b1 \u03ad\u03c7\u03bf\u03c5\u03bc\u03b5 \u03b4\u03b5\u03b9 \u03c3\u03b5 \u03ac\u03bb\u03bb\u03b5\u03c2 \u03b3\u03bb\u03ce\u03c3\u03c3\u03b5\u03c2. \u0391\u03bd\u03c4\u03af\u03b8\u03b5\u03c4\u03b1 \u03b8\u03b5\u03c9\u03c1\u03b5\u03af \u03cc\u03c4\u03b9 \u03ba\u03ac\u03b8\u03b5 \u03b3\u03c1\u03b1\u03bc\u03bc\u03ae \u03b5\u03af\u03bd\u03b1\u03b9 (\u03c3\u03c5\u03bd\u03ae\u03b8\u03c9\u03c2) \u03bc\u03b9\u03b1 \u03b5\u03bd\u03c4\u03bf\u03bb\u03ae \u03ba\u03b1\u03b9 **\u03b5\u03c0\u03b9\u03b2\u03ac\u03bb\u03bb\u03b5\u03b9** \u03c4\u03b7 \u03c3\u03c9\u03c3\u03c4\u03ae \u03c3\u03c4\u03bf\u03af\u03c7\u03b9\u03c3\u03b7 \u03c4\u03bf\u03c5 \u03c0\u03c1\u03bf\u03b3\u03c1\u03ac\u03bc\u03bc\u03b1\u03c4\u03bf\u03c2.\n\n\u038c\u03c4\u03b1\u03bd \u03b1\u03c0\u03bf\u03b8\u03b7\u03ba\u03b5\u03cd\u03bf\u03c5\u03bc\u03b5 \u03c4\u03b9\u03bc\u03ad\u03c2 \u03bc\u03ad\u03c3\u03b1 \u03c3\u03b5 \u03bc\u03b5\u03c4\u03b1\u03b2\u03bb\u03b7\u03c4\u03ad\u03c2 \u03b4\u03b5\u03bd \u03c7\u03c1\u03b5\u03b9\u03ac\u03b6\u03b5\u03c4\u03b1\u03b9 \u03bd\u03b1 \u03b4\u03b7\u03bb\u03ce\u03c3\u03bf\u03c5\u03bc\u03b5 \u03c4\u03bf\u03bd \u03c4\u03cd\u03c0\u03bf \u03c4\u03bf\u03c5\u03c2, \u03b5\u03bd\u03ce \u03b1\u03c5\u03c4\u03cc\u03c2 \u03b5\u03c0\u03b9\u03c4\u03c1\u03ad\u03c0\u03b5\u03c4\u03b1\u03b9 \u03bd\u03b1 \u03b1\u03bb\u03bb\u03ac\u03b6\u03b5\u03b9 \u03c3\u03c4\u03b7 \u03b4\u03b9\u03ac\u03c1\u03ba\u03b5\u03b9\u03b1 \u03c4\u03bf\u03c5 \u03c0\u03c1\u03bf\u03b3\u03c1\u03ac\u03bc\u03bc\u03b1\u03c4\u03bf\u03c2.\n\n\u03a3\u03c7\u03cc\u03bb\u03b9\u03b1 \u03b2\u03ac\u03b6\u03bf\u03c5\u03bc\u03b5 \u03c3\u03c4\u03bf\u03bd \u03ba\u03ce\u03b4\u03b9\u03ba\u03b1 \u03bc\u03b5 \u03c4\u03b7\u03bd \u03b4\u03af\u03b5\u03c3\u03b7 `#`.\n\n\n## Hello World!\n\n\u0393\u03b9\u03b1 \u03bd\u03b1 \u03c4\u03c5\u03c0\u03ce\u03c3\u03bf\u03c5\u03bc\u03b5 \u03ba\u03ac\u03c4\u03b9 \u03c3\u03c4\u03b7\u03bd python \u03c7\u03c1\u03b7\u03c3\u03b9\u03bc\u03bf\u03c0\u03bf\u03b9\u03bf\u03cd\u03bc\u03b5 \u03c4\u03b7\u03bd \u03b5\u03bd\u03c4\u03bf\u03bb\u03ae `print`: ", 
            "cell_type": "markdown", 
            "metadata": {}
        }, 
        {
            "source": "print 'Hello world!'", 
            "cell_type": "code", 
            "execution_count": 1, 
            "outputs": [
                {
                    "output_type": "stream", 
                    "name": "stdout", 
                    "text": "Hello world!\n"
                }
            ], 
            "metadata": {}
        }, 
        {
            "source": "## \u03a4\u03cd\u03c0\u03bf\u03b9 \u03b4\u03b5\u03b4\u03bf\u03bc\u03ad\u03bd\u03c9\u03bd\n\n\u039f\u03b9 \u03b2\u03b1\u03c3\u03b9\u03ba\u03cc\u03c4\u03b5\u03c1\u03bf\u03b9 \u03c4\u03cd\u03c0\u03bf\u03b9 \u03b4\u03b5\u03b4\u03bf\u03bc\u03ad\u03bd\u03c9\u03bd \u03c0\u03bf\u03c5 \u03b2\u03c1\u03af\u03c3\u03ba\u03bf\u03bd\u03c4\u03b1\u03b9 \u03c3\u03c4\u03b7 \u03b2\u03b1\u03c3\u03b9\u03ba\u03ae \u03ad\u03ba\u03b4\u03bf\u03c3\u03b7 \u03c4\u03b7\u03c2 python \u03b5\u03af\u03bd\u03b1\u03b9 \u03bf\u03b9 \u03b5\u03be\u03ae\u03c2:\n\n- \u0391\u03c1\u03b9\u03b8\u03bc\u03b7\u03c4\u03b9\u03ba\u03ac \u03b4\u03b5\u03b4\u03bf\u03bc\u03ad\u03bd\u03b1: `int`, `float`, `long`, `complex`, \u03ba\u03c4\u03bb.\n- \u0391\u03ba\u03bf\u03bb\u03bf\u03c5\u03b8\u03b9\u03b1\u03ba\u03ac \u03b4\u03b5\u03b4\u03bf\u03bc\u03ad\u03bd\u03b1: `string`, `list`, `tuple`, \u03ba\u03c4\u03bb.\n- \u039b\u03bf\u03b9\u03c0\u03ac: `dict`, `set`, \u03ba\u03c4\u03bb.\n\n### \u0391\u03c1\u03b9\u03b8\u03bc\u03b7\u03c4\u03b9\u03ba\u03ac \u03b4\u03b5\u03b4\u03bf\u03bc\u03ad\u03bd\u03b1\n\n\u03a3\u03c4\u03b7\u03bd Python \u03b4\u03b5\u03bd \u03c7\u03c1\u03b5\u03b9\u03ac\u03b6\u03b5\u03c4\u03b1\u03b9 \u03bd\u03b1 \u03bf\u03c1\u03af\u03b6\u03bf\u03c5\u03bc\u03b5 \u03c4\u03bf\u03bd \u03c4\u03cd\u03c0\u03bf \u03c4\u03b7\u03c2 \u03bc\u03b5\u03c4\u03b1\u03b2\u03bb\u03b7\u03c4\u03ae\u03c2 \u03bc\u03b1\u03b6\u03af \u03bc\u03b5 \u03c4\u03bf \u03cc\u03bd\u03bf\u03bc\u03ac \u03c4\u03b7\u03c2.", 
            "cell_type": "markdown", 
            "metadata": {}
        }, 
        {
            "source": "a = 5 # integer\nb = 2.2 # float\n\nprint 'a + b =', a + b\nprint 'a - b =', a - b\nprint 'a / b =', a / b # \u03c0\u03c1\u03bf\u03c3\u03bf\u03c7\u03ae, \u03b7 \u03b4\u03b9\u03b1\u03af\u03c1\u03b5\u03c3\u03b7 \u03bc\u03b5\u03c4\u03b1\u03be\u03cd \u03b1\u03ba\u03b5\u03c1\u03b1\u03af\u03c9\u03bd \u03c3\u03c4\u03b7\u03bd python 2.7 \u03b8\u03b5\u03c9\u03c1\u03b5\u03af\u03c4\u03b1\u03b9 \u03b5\u03c5\u03ba\u03bb\u03b5\u03af\u03b4\u03b5\u03b9\u03b1 \u03b4\u03b9\u03b1\u03af\u03c1\u03b5\u03c3\u03b7\nprint 'a * b =', a * b\nprint 'a ** b =', a ** b # \u03b4\u03cd\u03bd\u03b1\u03bc\u03b7", 
            "cell_type": "code", 
            "execution_count": 2, 
            "outputs": [
                {
                    "output_type": "stream", 
                    "name": "stdout", 
                    "text": "a + b = 7.2\na - b = 2.8\na / b = 2.27272727273\na * b = 11.0\na ** b = 34.4932415365\n"
                }
            ], 
            "metadata": {}
        }, 
        {
            "source": "\u0393\u03b9\u03b1 \u03c0\u03b9\u03bf \u03c3\u03cd\u03bd\u03b8\u03b5\u03c4\u03b5\u03c2 \u03c0\u03c1\u03ac\u03be\u03b5\u03b9\u03c2 \u03c0\u03c1\u03ad\u03c0\u03b5\u03b9 \u03bd\u03b1 \u03c7\u03c1\u03b7\u03c3\u03b9\u03bc\u03bf\u03c0\u03bf\u03b9\u03ae\u03c3\u03bf\u03c5\u03bc\u03b5 \u03ba\u03ac\u03c0\u03bf\u03b9\u03b1 \u03b5\u03be\u03c9\u03c4\u03b5\u03c1\u03b9\u03ba\u03ae \u03b2\u03b9\u03b2\u03bb\u03b9\u03bf\u03b8\u03ae\u03ba\u03b7.", 
            "cell_type": "markdown", 
            "metadata": {}
        }, 
        {
            "source": "import math # \u03bf\u03c1\u03af\u03b6\u03bf\u03c5\u03bc\u03b5 \u03c0\u03bf\u03b9\u03bf \u03c0\u03b1\u03ba\u03ad\u03c4\u03bf \u03b8\u03b1 \u03c7\u03c1\u03b7\u03c3\u03b9\u03bc\u03bf\u03c0\u03bf\u03b9\u03ae\u03c3\u03bf\u03c5\u03bc\u03b5\n\nprint 'exp(a) =', math.exp(a) # \u03c4\u03c1\u03ad\u03c7\u03bf\u03c5\u03bc\u03b5 \u03c4\u03b9\u03c2 \u03b1\u03bd\u03c4\u03af\u03c3\u03c4\u03bf\u03b9\u03c7\u03b5\u03c2 \u03c3\u03c5\u03bd\u03b1\u03c1\u03c4\u03ae\u03c3\u03b5\u03b9\u03c2\nprint 'cos(b) =', math.cos(b)", 
            "cell_type": "code", 
            "execution_count": 3, 
            "outputs": [
                {
                    "output_type": "stream", 
                    "name": "stdout", 
                    "text": "exp(a) = 148.413159103\ncos(b) = -0.588501117255\n"
                }
            ], 
            "metadata": {}
        }, 
        {
            "source": "### Strings\n\n\u03a3\u03c4\u03b7\u03bd python \u03bc\u03c0\u03bf\u03c1\u03bf\u03cd\u03bc\u03b5 \u03bd\u03b1 \u03bf\u03c1\u03af\u03c3\u03bf\u03c5\u03bc\u03b5 stings \u03b5\u03af\u03c4\u03b5 \u03bc\u03ad\u03c3\u03b1 \u03c3\u03b5 \u03bc\u03bf\u03bd\u03ac ('...') \u03b5\u03af\u03c4\u03b5 \u03c3\u03b5 \u03b4\u03b9\u03c0\u03bb\u03ac (\"...\") \u03b5\u03b9\u03c3\u03b1\u03b3\u03c9\u03b3\u03b9\u03ba\u03ac. ", 
            "cell_type": "markdown", 
            "metadata": {}
        }, 
        {
            "source": "s = 'my String'\n\nprint 'lowercase:', s.lower()\nprint 'uppercase:', s.upper()\nprint 'replace y-->e:', s.replace('y', 'e')\nprint 'a={}, b={}, s={}'.format(a, b, s) # \u03c7\u03c1\u03ae\u03c3\u03b7 \u03c4\u03bf\u03c5 format \u03b3\u03b9\u03b1 \u03bd\u03b1 \u03b5\u03b9\u03c3\u03ac\u03b3\u03bf\u03c5\u03bc\u03b5 \u03bc\u03b5\u03c4\u03b1\u03b2\u03bb\u03b7\u03c4\u03ad\u03c2 \u03bc\u03ad\u03c3\u03b1 \u03c3\u03c4\u03bf sting", 
            "cell_type": "code", 
            "execution_count": 4, 
            "outputs": [
                {
                    "output_type": "stream", 
                    "name": "stdout", 
                    "text": "lowercase: my string\nuppercase: MY STRING\nreplace y-->e: me String\na=5, b=2.2, s=my String\n"
                }
            ], 
            "metadata": {}
        }, 
        {
            "source": "### Lists & tuples\n\n\u039f\u03b9 \u03bb\u03af\u03c3\u03c4\u03b5\u03c2 \u03b5\u03af\u03bd\u03b1\u03b9 \u03bf \u03c0\u03b9\u03bf \"\u03b5\u03c5\u03ad\u03bb\u03b9\u03ba\u03c4\u03bf\u03c2\" \u03c4\u03cd\u03c0\u03bf\u03c2 \u03b4\u03b5\u03b4\u03bf\u03bc\u03ad\u03bd\u03c9\u03bd \u03c3\u03c4\u03b7\u03bd Python. \u039c\u03b9\u03b1 \u03bb\u03af\u03c3\u03c4\u03b1 \u03bc\u03c0\u03bf\u03c1\u03b5\u03af \u03bd\u03b1 \u03c0\u03b5\u03c1\u03b9\u03ad\u03c7\u03b5\u03b9 \u03cc\u03c4\u03b9 \u03c4\u03cd\u03c0\u03bf \u03b4\u03b5\u03b4\u03bf\u03bc\u03ad\u03bd\u03c9\u03bd \u03b8\u03ad\u03bb\u03bf\u03c5\u03bc\u03b5, \u03b1\u03ba\u03cc\u03bc\u03b1 \u03ba\u03b1\u03b9 \u03ac\u03bb\u03bb\u03b5\u03c2 \u03bb\u03af\u03c3\u03c4\u03b5\u03c2! \u0394\u03b5\u03bd \u03c7\u03c1\u03b5\u03b9\u03ac\u03b6\u03b5\u03c4\u03b1\u03b9 \u03bd\u03b1 \u03bf\u03c1\u03af\u03c3\u03bf\u03c5\u03bc\u03b5 \u03c4\u03bf \u03bc\u03ad\u03b3\u03b5\u03b8\u03bf\u03c2 \u03c4\u03b7\u03c2 \u03bb\u03af\u03c3\u03c4\u03b1\u03c2 \u03b5\u03ba \u03c4\u03c9\u03bd \u03c0\u03c1\u03bf\u03c4\u03ad\u03c1\u03c9\u03bd, \u03b5\u03bd\u03ce \u03b1\u03c5\u03c4\u03cc \u03bc\u03c0\u03bf\u03c1\u03b5\u03af \u03bd\u03b1 \u03b1\u03bb\u03bb\u03ac\u03be\u03b5\u03b9 \u03c0\u03b9\u03bf \u03bc\u03b5\u03c4\u03ac \u03c3\u03c4\u03bf\u03bd \u03ba\u03ce\u03b4\u03b9\u03ba\u03ac \u03bc\u03b1\u03c2. \u039f\u03b9 \u03bb\u03af\u03c3\u03c4\u03b5\u03c2 \u03c3\u03c4\u03b7\u03bd python \u03bf\u03c1\u03af\u03b6\u03bf\u03bd\u03c4\u03b1\u03b9 \u03bc\u03ad\u03c3\u03b1 \u03c3\u03b5 \u03b1\u03b3\u03ba\u03cd\u03bb\u03b5\u03c2 [].", 
            "cell_type": "markdown", 
            "metadata": {}
        }, 
        {
            "source": "l = [1, 2, 3, 'abc', a, b, s]\nprint 'original list:', l\nprint '4th element:', l[3] # \u03b1\u03bd\u03b1\u03c6\u03bf\u03c1\u03ac \u03c3\u03c4\u03bf 4\u03bf \u03c3\u03c4\u03bf\u03b9\u03c7\u03b5\u03af\u03bf \u03c4\u03b7\u03c2 \u03bb\u03af\u03c3\u03c4\u03b1\u03c2 (\u03b7 \u03b1\u03c1\u03af\u03b8\u03bc\u03b7\u03c3\u03b7 \u03be\u03b5\u03ba\u03b9\u03bd\u03ac\u03b5\u03b9 \u03b1\u03c0\u03cc \u03c4\u03bf 0)\nprint 'first 3 elemetns:', l[:3]\nprint 'last 2 elements:', l[-2:]\nprint 'pop:', l.pop() # \u03b1\u03c6\u03b1\u03b9\u03c1\u03b5\u03af \u03c4\u03bf \u03c4\u03b5\u03bb\u03b5\u03c5\u03c4\u03b1\u03af\u03bf \u03c3\u03c4\u03bf\u03b9\u03c7\u03b5\u03af\u03bf \u03c4\u03b7\u03c2 \u03bb\u03af\u03c3\u03c4\u03b1\u03c2 \u03ba\u03b1\u03b9 \u03c4\u03bf \u03b5\u03c0\u03b9\u03c3\u03c4\u03c1\u03ad\u03c6\u03b5\u03b9 \u03c3\u03b1\u03bd \u03b1\u03c0\u03bf\u03c4\u03ad\u03bb\u03b5\u03c3\u03bc\u03b1\nl.append('new element') # \u03c4\u03bf\u03c0\u03bf\u03b8\u03b5\u03c4\u03b5\u03af \u03ad\u03bd\u03b1 \u03bd\u03ad\u03bf \u03c3\u03c4\u03bf\u03b9\u03c7\u03b5\u03af\u03bf \u03c3\u03c4\u03bf \u03c4\u03ad\u03bb\u03bf\u03c2 \u03c4\u03b7\u03c2 \u03bb\u03af\u03c3\u03c4\u03b1\u03c2\ndel l[3] # \u03b4\u03b9\u03b1\u03b3\u03c1\u03ac\u03c6\u03b5\u03b9 \u03c4\u03bf 4\u03bf \u03c3\u03c4\u03bf\u03b9\u03c7\u03b5\u03af\u03bf \u03c4\u03b7\u03c2 \u03bb\u03af\u03c3\u03c4\u03b1\u03c2\nprint 'new list:', l", 
            "cell_type": "code", 
            "execution_count": 5, 
            "outputs": [
                {
                    "output_type": "stream", 
                    "name": "stdout", 
                    "text": "original list: [1, 2, 3, 'abc', 5, 2.2, 'my String']\n4th element: abc\nfirst 3 elemetns: [1, 2, 3]\nlast 2 elements: [2.2, 'my String']\npop: my String\nnew list: [1, 2, 3, 5, 2.2, 'new element']\n"
                }
            ], 
            "metadata": {}
        }, 
        {
            "source": "\u0388\u03bd\u03b1\u03c2 \u03b5\u03b9\u03b4\u03b9\u03ba\u03cc\u03c2 \u03c4\u03cd\u03c0\u03bf\u03c2 \u03bb\u03af\u03c3\u03c4\u03b1\u03c2 \u03b5\u03af\u03bd\u03b1\u03b9 \u03c4\u03bf `range` \u03c4\u03bf \u03bf\u03c0\u03bf\u03af\u03bf \u03b5\u03c0\u03b9\u03c3\u03c4\u03c1\u03ad\u03c6\u03b5\u03b9 \u03bc\u03b9\u03b1 **\u03bb\u03af\u03c3\u03c4\u03b1 \u03b1\u03c0\u03cc \u03b1\u03ba\u03b5\u03c1\u03b1\u03af\u03bf\u03c5\u03c2**. \n\n- \u0391\u03bd \u03b2\u03ac\u03bb\u03bf\u03c5\u03bc\u03b5 \u03ad\u03bd\u03b1 \u03cc\u03c1\u03b9\u03c3\u03bc\u03b1: \u03b5\u03c0\u03b9\u03c3\u03c4\u03c1\u03ad\u03c6\u03b5\u03b9 \u03bc\u03b9\u03b1 \u03bb\u03af\u03c3\u03c4\u03b1 \u03b1\u03ba\u03b5\u03c1\u03b1\u03af\u03c9\u03bd \u03b1\u03c0\u03cc \u03c4\u03bf 0 \u03bc\u03ad\u03c7\u03c1\u03b9 \u03ba\u03b1\u03b9 \u03c4\u03bf\u03bd \u03c0\u03c1\u03bf\u03b7\u03b3\u03bf\u03cd\u03bc\u03b5\u03bd\u03bf \u03c4\u03bf\u03c5 \u03b1\u03c1\u03b9\u03b8\u03bc\u03bf\u03cd \u03b1\u03c5\u03c4\u03bf\u03cd.\n- \u0391\u03bd \u03b2\u03ac\u03bb\u03bf\u03c5\u03bc\u03b5 \u03b4\u03c5\u03bf \u03bf\u03c1\u03af\u03c3\u03bc\u03b1\u03c4\u03b1: \u03b5\u03c0\u03b9\u03c3\u03c4\u03c1\u03ad\u03c6\u03b5\u03b9 \u03bc\u03b9\u03b1 \u03bb\u03af\u03c3\u03c4\u03b1 \u03b1\u03ba\u03b5\u03c1\u03b1\u03af\u03c9\u03bd \u03b1\u03c0\u03cc \u03c4\u03bf\u03bd \u03c0\u03c1\u03ce\u03c4\u03bf \u03bc\u03ad\u03c7\u03c1\u03b9 \u03c4\u03bf\u03bd \u03c0\u03c1\u03bf\u03b7\u03b3\u03bf\u03cd\u03bc\u03b5\u03bd\u03bf \u03c4\u03bf\u03c5 \u03b4\u03b5\u03cd\u03c4\u03b5\u03c1\u03bf\u03c5 \u03b1\u03c1\u03b9\u03b8\u03bc\u03bf\u03cd.\n- \u0391\u03bd \u03b2\u03ac\u03bb\u03bf\u03c5\u03bc\u03b5 \u03c4\u03c1\u03af\u03b1 \u03bf\u03c1\u03af\u03c3\u03bc\u03b1\u03c4\u03b1: \u03b5\u03c0\u03b9\u03c3\u03c4\u03c1\u03ad\u03c6\u03b5\u03b9 \u03bc\u03b9\u03b1 \u03bb\u03af\u03c3\u03c4\u03b1 \u03b1\u03ba\u03b5\u03c1\u03b1\u03af\u03c9\u03bd \u03b1\u03c0\u03cc \u03c4\u03bf\u03bd \u03c0\u03c1\u03ce\u03c4\u03bf \u03bc\u03ad\u03c7\u03c1\u03b9 \u03c4\u03bf\u03bd \u03c0\u03c1\u03bf\u03b7\u03b3\u03bf\u03cd\u03bc\u03b5\u03bd\u03bf \u03c4\u03bf\u03c5 \u03b4\u03b5\u03cd\u03c4\u03b5\u03c1\u03bf\u03c5 \u03b1\u03c1\u03b9\u03b8\u03bc\u03bf\u03cd \u03bc\u03b5 \u03b2\u03ae\u03bc\u03b1 \u03af\u03c3\u03bf \u03bc\u03b5 \u03c4\u03bf\u03bd \u03c4\u03c1\u03af\u03c4\u03bf \u03b1\u03c1\u03b9\u03b8\u03bc\u03cc.", 
            "cell_type": "markdown", 
            "metadata": {}
        }, 
        {
            "source": "print range(5) # \u03bb\u03af\u03c3\u03c4\u03b1 \u03b1\u03ba\u03b5\u03c1\u03b1\u03af\u03c9\u03bd \u03b1\u03c0\u03cc \u03c4\u03bf 0 \u03bc\u03ad\u03c7\u03c1\u03b9 \u03c4\u03bf 4\nprint range(3,9) # \u03bb\u03af\u03c3\u03c4\u03b1 \u03b1\u03ba\u03b5\u03c1\u03b1\u03af\u03c9\u03bd \u03b1\u03c0\u03cc \u03c4\u03bf 3 \u03bc\u03ad\u03c7\u03c1\u03b9 \u03c4\u03bf 8\nprint range(5,15,2) # \u03bb\u03af\u03c3\u03c4\u03b1 \u03c0\u03b5\u03c1\u03b9\u03c4\u03c4\u03ce\u03bd \u03b1\u03ba\u03b5\u03c1\u03b1\u03af\u03c9\u03bd \u03b1\u03c0\u03cc \u03c4\u03bf 5 \u03bc\u03ad\u03c7\u03c1\u03b9 \u03c4\u03bf 14", 
            "cell_type": "code", 
            "execution_count": 6, 
            "outputs": [
                {
                    "output_type": "stream", 
                    "name": "stdout", 
                    "text": "[0, 1, 2, 3, 4]\n[3, 4, 5, 6, 7, 8]\n[5, 7, 9, 11, 13]\n"
                }
            ], 
            "metadata": {}
        }, 
        {
            "source": "\u03a4\u03b1 tuples \u03b5\u03af\u03bd\u03b1\u03b9 \u03b4\u03bf\u03bc\u03ad\u03c2 \u03b4\u03b5\u03b4\u03bf\u03bc\u03ad\u03bd\u03c9\u03bd \u03c0\u03b1\u03c1\u03cc\u03bc\u03bf\u03b9\u03b5\u03c2 \u03bc\u03b5 \u03c4\u03b9\u03c2 \u03bb\u03af\u03c3\u03c4\u03b5\u03c2 \u03bc\u03cc\u03bd\u03bf \u03c0\u03bf\u03c5 **\u03b4\u03b5\u03bd \u03bc\u03c0\u03bf\u03c1\u03bf\u03cd\u03bd \u03bd\u03b1 \u03b1\u03bb\u03bb\u03ac\u03be\u03bf\u03c5\u03bd** \u03ba\u03b1\u03c4\u03ac \u03c4\u03b7 \u03b4\u03b9\u03ac\u03c1\u03ba\u03b5\u03b9\u03b1 \u03c4\u03bf\u03c5 \u03c0\u03c1\u03bf\u03b3\u03c1\u03ac\u03bc\u03bc\u03b1\u03c4\u03bf\u03c2. \u03a4\u03b1 tuples \u03bf\u03c1\u03af\u03b6\u03bf\u03bd\u03c4\u03b1\u03b9 \u03bc\u03ad\u03c3\u03b1 \u03c3\u03b5 \u03c0\u03b1\u03c1\u03b5\u03bd\u03b8\u03ad\u03c3\u03b5\u03b9\u03c2 ().", 
            "cell_type": "markdown", 
            "metadata": {}
        }, 
        {
            "source": "t = (1,2,3) # immutable object\ndel t[1]", 
            "cell_type": "code", 
            "execution_count": 7, 
            "outputs": [
                {
                    "output_type": "error", 
                    "evalue": "'tuple' object doesn't support item deletion", 
                    "traceback": [
                        "\u001b[0;31m\u001b[0m", 
                        "\u001b[0;31mTypeError\u001b[0mTraceback (most recent call last)", 
                        "\u001b[0;32m<ipython-input-7-9565ba9502d5>\u001b[0m in \u001b[0;36m<module>\u001b[0;34m()\u001b[0m\n\u001b[1;32m      1\u001b[0m \u001b[0mt\u001b[0m \u001b[0;34m=\u001b[0m \u001b[0;34m(\u001b[0m\u001b[0;36m1\u001b[0m\u001b[0;34m,\u001b[0m\u001b[0;36m2\u001b[0m\u001b[0;34m,\u001b[0m\u001b[0;36m3\u001b[0m\u001b[0;34m)\u001b[0m \u001b[0;31m# immutable object\u001b[0m\u001b[0;34m\u001b[0m\u001b[0m\n\u001b[0;32m----> 2\u001b[0;31m \u001b[0;32mdel\u001b[0m \u001b[0mt\u001b[0m\u001b[0;34m[\u001b[0m\u001b[0;36m1\u001b[0m\u001b[0;34m]\u001b[0m\u001b[0;34m\u001b[0m\u001b[0m\n\u001b[0m", 
                        "\u001b[0;31mTypeError\u001b[0m: 'tuple' object doesn't support item deletion"
                    ], 
                    "ename": "TypeError"
                }
            ], 
            "metadata": {}
        }, 
        {
            "source": "### Dictionaries\n\n\u03a4\u03b1 dictionaries **\u03b4\u03b5\u03bd \u03ad\u03c7\u03bf\u03c5\u03bd \u03b1\u03c1\u03af\u03b8\u03bc\u03b7\u03c3\u03b7** \u03cc\u03c0\u03c9\u03c2 \u03b5\u03af\u03b4\u03b1\u03bc\u03b5 \u03c0\u03c1\u03af\u03bd \u03bc\u03b5 \u03c4\u03b9\u03c2 \u03bb\u03af\u03c3\u03c4\u03b5\u03c2 \u03ba\u03b1\u03b9 \u03c4\u03b1 tuples. \u039b\u03b5\u03b9\u03c4\u03bf\u03c5\u03c1\u03b3\u03bf\u03cd\u03bd \u03bc\u03b5 \u03c4\u03b7 \u03bb\u03bf\u03b3\u03b9\u03ba\u03ae \u03c4\u03c9\u03bd \u03ba\u03bb\u03b5\u03b9\u03b4\u03b9\u03ce\u03bd (**keys**) \u03ba\u03b1\u03b9 \u03c4\u03c9\u03bd \u03c4\u03b9\u03bc\u03ce\u03bd (**values**). \u03a4\u03b1 dictionaries \u03bf\u03c1\u03af\u03b6\u03bf\u03bd\u03c4\u03b1\u03b9 \u03bc\u03ad\u03c3\u03b1 \u03c3\u03b5 \u03ac\u03b3\u03ba\u03c5\u03c3\u03c4\u03c1\u03b1 {}.", 
            "cell_type": "markdown", 
            "metadata": {}
        }, 
        {
            "source": "d = {'name':'John', 'age': 26}\nprint 'original dictionary:', d\nprint 'd[name]: ', d['name']\nd['address'] = 'Downtown' # \u03c0\u03c1o\u03c3\u03b8\u03ae\u03ba\u03b7 \u03bd\u03ad\u03bf\u03c5 \u03c3\u03c4\u03bf\u03b9\u03c7\u03b5\u03af\u03bf\u03c5\ndel d['age'] # \u03b4\u03b9\u03b1\u03b3\u03c1\u03b1\u03c6\u03ae \u03c3\u03c4\u03bf\u03b9\u03c7\u03b5\u03af\u03bf\u03c5\nprint 'new dictionary:', d\nprint 'dictionary keys:', d.keys() # \u03b5\u03c0\u03b9\u03c3\u03c4\u03c1\u03ad\u03c6\u03b5\u03b9 \u03cc\u03bb\u03b1 \u03c4\u03b1 \u03ba\u03bb\u03b5\u03b9\u03b4\u03b9\u03ac\nprint 'dictionary values:', d.values() # \u03b5\u03c0\u03b9\u03c3\u03c4\u03c1\u03ad\u03c6\u03b5\u03b9 \u03cc\u03bb\u03b5\u03c2 \u03c4\u03b9\u03c2 \u03c4\u03b9\u03bc\u03ad\u03c2", 
            "cell_type": "code", 
            "execution_count": 8, 
            "outputs": [
                {
                    "output_type": "stream", 
                    "name": "stdout", 
                    "text": "original dictionary: {'age': 26, 'name': 'John'}\nd[name]:  John\nnew dictionary: {'name': 'John', 'address': 'Downtown'}\ndictionary keys: ['name', 'address']\ndictionary values: ['John', 'Downtown']\n"
                }
            ], 
            "metadata": {}
        }, 
        {
            "source": "## \u0388\u03bb\u03b5\u03b3\u03c7\u03bf\u03c2 \u03c1\u03bf\u03ae\u03c2\n\n\u03a0\u03c1\u03bf\u03c3\u03bf\u03c7\u03ae \u03b8\u03ad\u03bb\u03b5\u03b9 \u03b7 \u03c3\u03c4\u03bf\u03af\u03c7\u03b9\u03c3\u03b7 \u03ba\u03b1\u03b8\u03ce\u03c2 \u03ba\u03b1\u03b8\u03bf\u03c1\u03af\u03b6\u03b5\u03b9 \u03c4\u03b1 \u03bc\u03c0\u03bb\u03bf\u03ba \u03c4\u03c9\u03bd `if`, `for` \u03ba\u03b1\u03b9 `while`.\n\n### \u0395\u03bd\u03c4\u03bf\u03bb\u03ae if", 
            "cell_type": "markdown", 
            "metadata": {}
        }, 
        {
            "source": "x = 5\n\nif x > 6:\n    print 'x is greater than 6'\nelif x < 6 and x > 4:\n    print 'x is smaller than 6 and greater than 4'\nelse:\n    print 'x is smaller than 4'", 
            "cell_type": "code", 
            "execution_count": 9, 
            "outputs": [
                {
                    "output_type": "stream", 
                    "name": "stdout", 
                    "text": "x is smaller than 6 and greater than 4\n"
                }
            ], 
            "metadata": {}
        }, 
        {
            "source": "### \u0395\u03bd\u03c4\u03bf\u03bb\u03ae while", 
            "cell_type": "markdown", 
            "metadata": {}
        }, 
        {
            "source": "x = 0\n\nwhile x < 5:\n    print x\n    x += 1", 
            "cell_type": "code", 
            "execution_count": 10, 
            "outputs": [
                {
                    "output_type": "stream", 
                    "name": "stdout", 
                    "text": "0\n1\n2\n3\n4\n"
                }
            ], 
            "metadata": {}
        }, 
        {
            "source": "### \u0395\u03bd\u03c4\u03bf\u03bb\u03ae for", 
            "cell_type": "markdown", 
            "metadata": {}
        }, 
        {
            "source": "for i in l: # \u03b4\u03b9\u03b1\u03c4\u03c1\u03ad\u03c7\u03b5\u03b9 \u03c4\u03b7 \u03bb\u03af\u03c3\u03c4\u03b1 l \n    print i # \u03ba\u03b1\u03b9 \u03c4\u03c5\u03c0\u03ce\u03bd\u03b5\u03b9 \u03c4\u03b1 \u03c3\u03c4\u03bf\u03b9\u03c7\u03b5\u03af\u03b1 \u03c4\u03b7\u03c2\n\nprint\n\nfor i in range(3, 11, 2): # \u03c4\u03bf range \u03b4\u03b7\u03bc\u03b9\u03bf\u03c5\u03c1\u03b3\u03b5\u03af \u03bc\u03b9\u03b1 \u03bb\u03af\u03c3\u03c4\u03b1 \u03b1\u03ba\u03b5\u03c1\u03b1\u03af\u03c9\u03bd \u03b1\u03c0\u03cc \u03c4\u03bf 3 \u03bc\u03ad\u03c7\u03c1\u03b9 \u03c4\u03bf 11 \u03bc\u03b5 \u03b2\u03ae\u03bc\u03b1 2\n    print i", 
            "cell_type": "code", 
            "execution_count": 11, 
            "outputs": [
                {
                    "output_type": "stream", 
                    "name": "stdout", 
                    "text": "1\n2\n3\n5\n2.2\nnew element\n\n3\n5\n7\n9\n"
                }
            ], 
            "metadata": {}
        }, 
        {
            "source": "\u0397 python \u03c5\u03c0\u03bf\u03c3\u03c4\u03b7\u03c1\u03af\u03b6\u03b5\u03b9 \u03ba\u03b1\u03b9 \u03c4\u03b9\u03c2 \u03b5\u03bd\u03c4\u03bf\u03bb\u03ad\u03c2 break, continue \u03ba\u03b1\u03b9 pass, \u03b3\u03b9\u03b1 \u03b1\u03ba\u03cc\u03bc\u03b1 \u03bc\u03b5\u03b3\u03b1\u03bb\u03cd\u03c4\u03b5\u03c1\u03bf \u03ad\u03bb\u03b5\u03b3\u03c7\u03bf \u03c3\u03c4\u03b7\u03bd \u03b5\u03c0\u03b1\u03bd\u03ac\u03bb\u03b7\u03c8\u03b7.\n\n\u038c\u03c0\u03c9\u03c2 \u03b5\u03af\u03c0\u03b1\u03bc\u03b5 \u03ba\u03b1\u03b9 \u03c0\u03c1\u03bf\u03b7\u03b3\u03bf\u03c5\u03bc\u03ad\u03bd\u03c9\u03c2 \u03ad\u03c7\u03b5\u03b9 \u03bc\u03b5\u03b3\u03ac\u03bb\u03b7 \u03c3\u03b7\u03bc\u03b1\u03c3\u03af\u03b1 \u03b7 \u03c3\u03c4\u03bf\u03af\u03c7\u03b9\u03c3\u03b7 \u03c4\u03c9\u03bd \u03b5\u03bd\u03c4\u03bf\u03bb\u03ce\u03bd!", 
            "cell_type": "markdown", 
            "metadata": {}
        }, 
        {
            "source": "for i in range(5):\n    if i < 2:\n        print '{} is smaller than 2'.format(i)\n    elif i == 2:\n        print '{} is equal to 2'.format(i)\n    else:\n        print '{} is greater than 2'.format(i)", 
            "cell_type": "code", 
            "execution_count": 12, 
            "outputs": [
                {
                    "output_type": "stream", 
                    "name": "stdout", 
                    "text": "0 is smaller than 2\n1 is smaller than 2\n2 is equal to 2\n3 is greater than 2\n4 is greater than 2\n"
                }
            ], 
            "metadata": {}
        }, 
        {
            "source": "### List comprehension\n\n\u039c\u03b9\u03b1 \u03c0\u03bf\u03bb\u03cd \u03b2\u03bf\u03bb\u03b9\u03ba\u03ae \u03c3\u03cd\u03bd\u03c4\u03b1\u03be\u03b7 \u03c4\u03b7\u03c2 python \u03b3\u03b9\u03b1 \u03c4\u03bf\u03bd \u03bf\u03c1\u03b9\u03c3\u03bc\u03cc \u03bb\u03b9\u03c3\u03c4\u03ce\u03bd.\n\n\u03a0\u03c7 \u03b8\u03ad\u03bb\u03bf\u03c5\u03bc\u03b5 \u03bd\u03b1 \u03c6\u03c4\u03b9\u03ac\u03be\u03bf\u03c5\u03bc\u03b5 \u03bc\u03b9\u03b1 \u03bb\u03af\u03c3\u03c4\u03b1 (`squares`) \u03c0\u03bf\u03c5 \u03bd\u03b1 \u03c0\u03b5\u03c1\u03b9\u03ad\u03c7\u03b5\u03b9 \u03c4\u03b1 \u03c4\u03b5\u03c4\u03c1\u03ac\u03b3\u03c9\u03bd\u03b1 \u03c4\u03c9\u03bd \u03b1\u03c1\u03b9\u03b8\u03bc\u03ce\u03bd \u03b1\u03c0\u03cc \u03c4\u03bf 0 \u03bc\u03ad\u03c7\u03c1\u03b9 \u03c4\u03bf 9. \u039c\u03b5 \u03cc\u03c3\u03b1 \u03ad\u03c7\u03bf\u03c5\u03bc\u03b5 \u03bc\u03ac\u03b8\u03b5\u03b9 \u03bc\u03ad\u03c7\u03c1\u03b9 \u03c3\u03c4\u03b9\u03b3\u03bc\u03af\u03c2 \u03b1\u03c5\u03c4\u03cc \u03b8\u03b1 \u03c4\u03bf \u03b3\u03c1\u03ac\u03c6\u03b1\u03bc\u03b5 \u03c9\u03c2 \u03b5\u03be\u03ae\u03c2:", 
            "cell_type": "markdown", 
            "metadata": {}
        }, 
        {
            "source": "squares = []\nfor i in range(10):\n    squares.append(i**2)\nprint squares", 
            "cell_type": "code", 
            "execution_count": 13, 
            "outputs": [
                {
                    "output_type": "stream", 
                    "name": "stdout", 
                    "text": "[0, 1, 4, 9, 16, 25, 36, 49, 64, 81]\n"
                }
            ], 
            "metadata": {}
        }, 
        {
            "source": "\u039a\u03ac\u03bd\u03bf\u03bd\u03c4\u03b1\u03c2 \u03c7\u03c1\u03ae\u03c3\u03b7 \u03c4\u03bf\u03c5 list comprehension \u03c4\u03bf \u03c0\u03b1\u03c1\u03b1\u03c0\u03ac\u03bd\u03c9 \u03b3\u03c1\u03ac\u03c6\u03b5\u03c4\u03b1\u03b9 \u03c0\u03b9\u03bf \u03b1\u03c0\u03bb\u03ac \u03c9\u03c2 \u03b5\u03be\u03ae\u03c2", 
            "cell_type": "markdown", 
            "metadata": {}
        }, 
        {
            "source": "squares = [x ** 2 for x in range(10)]\nprint squares", 
            "cell_type": "code", 
            "execution_count": 14, 
            "outputs": [
                {
                    "output_type": "stream", 
                    "name": "stdout", 
                    "text": "[0, 1, 4, 9, 16, 25, 36, 49, 64, 81]\n"
                }
            ], 
            "metadata": {}
        }, 
        {
            "source": "\u03a4\u03bf list comprehension \u03bc\u03c0\u03bf\u03c1\u03b5\u03af \u03bd\u03b1 \u03b3\u03af\u03bd\u03b5\u03b9 \u03c0\u03b9\u03bf \u03c3\u03cd\u03bd\u03b8\u03b5\u03c4\u03bf \u03b2\u03ac\u03b6\u03bf\u03bd\u03c4\u03b1\u03c2 \u03c0\u03b1\u03c1\u03b1\u03c0\u03ac\u03bd\u03c9 \u03b1\u03c0\u03cc \u03bc\u03b9\u03b1 `for` \u03ba\u03b1\u03b9 `if` \u03bc\u03ad\u03c3\u03b1. \u0397 \u03c0\u03b1\u03c1\u03b1\u03ba\u03ac\u03c4\u03c9 \u03b5\u03bd\u03c4\u03bf\u03bb\u03ae \u03c0\u03ac\u03b9\u03c1\u03bd\u03b5\u03b9 \u03ad\u03bd\u03b1 string (`'hello world!'`) \u03ba\u03b1\u03b9 \u03ba\u03ac\u03bd\u03b5\u03b9 \u03c4\u03b1 \u03c6\u03c9\u03bd\u03af\u03b5\u03bd\u03c4\u03ac \u03c4\u03bf\u03c5 \u03ba\u03b5\u03c6\u03b1\u03bb\u03b1\u03af\u03b1.", 
            "cell_type": "markdown", 
            "metadata": {}
        }, 
        {
            "source": "print ''.join([x.upper() if x in 'aeioyu' else x for x in 'hello world!'])", 
            "cell_type": "code", 
            "execution_count": 15, 
            "outputs": [
                {
                    "output_type": "stream", 
                    "name": "stdout", 
                    "text": "hEllO wOrld!\n"
                }
            ], 
            "metadata": {}
        }, 
        {
            "source": "## \u03a3\u03c5\u03bd\u03b1\u03c1\u03c4\u03ae\u03c3\u03b5\u03b9\u03c2\n\n\u039f\u03b9 \u03c3\u03c5\u03bd\u03b1\u03c1\u03c4\u03ae\u03c3\u03b5\u03b9\u03c2 \u03c4\u03b7\u03c2 python \u03b4\u03ad\u03c7\u03bf\u03bd\u03c4\u03b1\u03b9 [\u03b4\u03cd\u03bf \u03c4\u03cd\u03c0\u03bf\u03c5\u03c2 \u03bf\u03c1\u03b9\u03c3\u03bc\u03ac\u03c4\u03c9\u03bd](https://docs.python.org/2/glossary.html#term-argument) \u03c4\u03b1 **keyword (optional) arguments** \u03ba\u03b1\u03b9 \u03c4\u03b1 **positional arguments**. \u03a4\u03b1 \u03c0\u03c1\u03ce\u03c4\u03b1 \u03b5\u03af\u03bd\u03b1\u03b9 \u03c0\u03c1\u03bf\u03b5\u03c1\u03b1\u03b9\u03c4\u03b9\u03ba\u03ac (\u03b1\u03bd \u03b4\u03b5\u03bd \u03c4\u03b1 \u03bf\u03c1\u03af\u03c3\u03b5\u03b9 \u03bf \u03c7\u03c1\u03ae\u03c3\u03c4\u03b7\u03c2 \u03c0\u03b1\u03af\u03c1\u03bd\u03bf\u03c5\u03bd \u03bc\u03b9\u03b1 default \u03c4\u03b9\u03bc\u03ae), \u03ad\u03c7\u03bf\u03c5\u03bd \u03cc\u03bd\u03bf\u03bc\u03b1 \u03ba\u03b1\u03b9 \u03bc\u03c0\u03bf\u03c1\u03b5\u03af \u03bd\u03b1 \u03c4\u03b1 \u03c4\u03bf\u03c0\u03bf\u03b8\u03b5\u03c4\u03ae\u03c3\u03bf\u03c5\u03bc\u03b5 \u03bc\u03b5 \u03cc\u03c0\u03bf\u03b9\u03b1 \u03c3\u03b5\u03b9\u03c1\u03ac \u03b8\u03ad\u03bb\u03bf\u03c5\u03bc\u03b5 \u03ba\u03b1\u03c4\u03ac \u03c4\u03b7\u03bd \u03ba\u03bb\u03ae\u03c3\u03b7 \u03c4\u03b7\u03c2 \u03c3\u03c5\u03bd\u03ac\u03c1\u03c4\u03b7\u03c3\u03b7\u03c2. \u03a4\u03b1 \u03b4\u03b5\u03cd\u03c4\u03b5\u03c1\u03b1 \u03b5\u03af\u03bd\u03b1\u03b9 \u03c5\u03c0\u03bf\u03c7\u03c1\u03b5\u03c9\u03c4\u03b9\u03ba\u03ac \u03ba\u03b1\u03b9 \u03c0\u03c1\u03ad\u03c0\u03b5\u03b9 \u03bd\u03b1 \u03bc\u03c0\u03bf\u03c5\u03bd \u03bc\u03b5 \u03c4\u03b7 \u03c3\u03b5\u03b9\u03c1\u03ac. \n\n### Positional Arguments", 
            "cell_type": "markdown", 
            "metadata": {}
        }, 
        {
            "source": "def my_func(a, b):\n    return a * (a + b)\n\nprint my_func(3,4)", 
            "cell_type": "code", 
            "execution_count": 16, 
            "outputs": [
                {
                    "output_type": "stream", 
                    "name": "stdout", 
                    "text": "21\n"
                }
            ], 
            "metadata": {}
        }, 
        {
            "source": "### Keyword Arguments", 
            "cell_type": "markdown", 
            "metadata": {}
        }, 
        {
            "source": "def my_func2(a=0, b=0):\n    return a * (a + b)\n\nprint my_func2(3,4) # \u03b4\u03ad\u03c7\u03b5\u03c4\u03b1\u03b9 a=3, b=4\nprint my_func2() # \u03b4\u03ad\u03c7\u03b5\u03c4\u03b1\u03b9 \u03c4\u03b9\u03c2 default \u03c4\u03b9\u03bc\u03ad\u03c2: a=0, b=0\nprint my_func2(3) # \u03b4\u03ad\u03c7\u03b5\u03c4\u03b1\u03b9 a=3, b=0\nprint my_func2(a=3) # \u03b4\u03ad\u03c7\u03b5\u03c4\u03b1\u03b9 a=3, b=0\nprint my_func2(b=3) # \u03b4\u03ad\u03c7\u03b5\u03c4\u03b1\u03b9 b=3, a=0\nprint my_func2(b=3, a=4)  # \u03b4\u03ad\u03c7\u03b5\u03c4\u03b1\u03b9 a=4, b=3", 
            "cell_type": "code", 
            "execution_count": 17, 
            "outputs": [
                {
                    "output_type": "stream", 
                    "name": "stdout", 
                    "text": "21\n0\n9\n9\n0\n28\n"
                }
            ], 
            "metadata": {}
        }, 
        {
            "source": "## \u0386\u03c3\u03ba\u03b7\u03c3\u03b7 1:\n\n\u03a6\u03c4\u03b9\u03ac\u03be\u03c4\u03b5 \u03bc\u03b9\u03b1 \u03c3\u03c5\u03bd\u03ac\u03c1\u03c4\u03b7\u03c3\u03b7 \u03c0\u03bf\u03c5 \u03bd\u03b1 \u03b4\u03ad\u03c7\u03b5\u03c4\u03b1\u03b9 \u03bc\u03b9\u03b1 \u03c0\u03b1\u03c1\u03ac\u03bc\u03b5\u03c4\u03c1\u03bf \u039d \u03ba\u03b1\u03b9 \u03bd\u03b1 \u03b5\u03c0\u03b9\u03c3\u03c4\u03c1\u03ad\u03c6\u03b5\u03b9 \u03c4\u03bf\u03c5\u03c2 \u03c0\u03c1\u03ce\u03c4\u03bf\u03c5\u03c2 \u03b1\u03c1\u03b9\u03b8\u03bc\u03bf\u03cd\u03c2 \u03bc\u03ad\u03c7\u03c1\u03b9 \u03c4\u03bf \u039d \u03c3\u03b5 \u03bc\u03bf\u03c1\u03c6\u03ae \u03bb\u03af\u03c3\u03c4\u03b1\u03c2.", 
            "cell_type": "markdown", 
            "metadata": {}
        }, 
        {
            "source": "def primee(N):\n    list=[]\n    for i in range(1,N):\n        flag=0\n        for j in range(2,i-1):\n            if flag==1:\n                break\n            elif i%j==0:\n                flag=1\n        if flag==0:\n            list.append(i)\n\n    return list\n\n\nprint(primee(15))\n                ", 
            "cell_type": "code", 
            "execution_count": 22, 
            "outputs": [
                {
                    "output_type": "stream", 
                    "name": "stdout", 
                    "text": "[1, 2, 3, 5, 7, 11, 13]\n"
                }
            ], 
            "metadata": {}
        }, 
        {
            "source": "## \u0391\u03c1\u03c7\u03b5\u03af\u03b1\n\n\u0393\u03b9\u03b1 \u03bd\u03b1 \u03b3\u03c1\u03ac\u03c8\u03bf\u03c5\u03bc\u03b5 \u03c3\u03b5 \u03bd\u03b1 \u03b1\u03c1\u03c7\u03b5\u03af\u03bf \u03c7\u03c1\u03b7\u03c3\u03b9\u03bc\u03bf\u03c0\u03bf\u03b9\u03bf\u03cd\u03bc\u03b5 \u03c4\u03b7\u03bd \u03c3\u03c5\u03bd\u03ac\u03c1\u03c4\u03c3\u03b7 `open()` \u03c4\u03b7\u03c2 python. \u0394\u03ad\u03c7\u03b5\u03c4\u03b1\u03b9 2 \u03bf\u03c1\u03af\u03c3\u03bc\u03b1\u03c4\u03b1:\n\n- \u03a4\u03bf \u03cc\u03bd\u03bf\u03bc\u03b1 \u03c4\u03bf\u03c5 \u03b1\u03c1\u03c7\u03b5\u03af\u03bf\u03c5 \u03c0\u03bf\u03c5 \u03b8\u03b1 \u03b1\u03bd\u03bf\u03af\u03be\u03b5\u03b9/\u03b4\u03b7\u03bc\u03b9\u03bf\u03c5\u03c1\u03b3\u03ae\u03c3\u03b5\u03b9 (\u03ae \u03c4\u03bf path \u03c4\u03bf\u03c5)\n- \u03a4\u03bf mode \u03c3\u03c4\u03bf \u03bf\u03c0\u03bf\u03af\u03bf \u03b8\u03b1 \u03c4\u03bf \u03b1\u03bd\u03bf\u03af\u03be\u03b5\u03b9 (\u03c0\u03c7 \u03b3\u03b9\u03b1 \u03b5\u03b3\u03b3\u03c1\u03b1\u03c6\u03ae, \u03b3\u03b9\u03b1 \u03b1\u03bd\u03ac\u03b3\u03bd\u03c9\u03c3\u03b7)", 
            "cell_type": "markdown", 
            "metadata": {}
        }, 
        {
            "source": "f = open('doc.txt', 'w') # \u03b1\u03bd\u03bf\u03af\u03b3\u03bf\u03c5\u03bc\u03b5 \u03ad\u03bd\u03b1 \u03b1\u03c1\u03c7\u03b5\u03af\u03bf \u03c3\u03b5 mode 'w' --> write\nf.write('my first line\\n') # \u03b3\u03c1\u03ac\u03c6\u03bf\u03c5\u03bc\u03b5 \u03bc\u03b9\u03b1 \u03b3\u03c1\u03b1\u03bc\u03bc\u03ae \u03c3\u03c4\u03bf \u03b1\u03c1\u03c7\u03b5\u03af\u03bf\nf.close() # \u03ba\u03bb\u03b5\u03af\u03bd\u03bf\u03c5\u03bc\u03b5 \u03c4\u03bf \u03b1\u03c1\u03c7\u03b5\u03af\u03bf", 
            "cell_type": "code", 
            "execution_count": 23, 
            "outputs": [], 
            "metadata": {
                "collapsed": true
            }
        }, 
        {
            "source": "\u0397 \u03c0\u03b1\u03c1\u03b1\u03c0\u03ac\u03bd\u03c9 \u03b5\u03bd\u03c4\u03bf\u03bb\u03ae \u03b4\u03b7\u03bc\u03b9\u03bf\u03cd\u03c1\u03b3\u03b7\u03c3\u03b5 \u03ad\u03bd\u03b1 \u03b1\u03c1\u03c7\u03b5\u03af\u03bf \u03c3\u03c4\u03bf\u03bd \u03c6\u03ac\u03ba\u03b5\u03bb\u03bf \u03b1\u03c0\u03cc \u03c4\u03bf\u03bd \u03bf\u03c0\u03bf\u03af\u03bf \u03c4\u03c1\u03ad\u03c7\u03bf\u03c5\u03bc\u03b5 \u03c4\u03bf notebook. \u0391\u03bd \u03b8\u03ad\u03bb\u03b1\u03bc\u03b5 \u03ac\u03bb\u03bb\u03b7 \u03c4\u03bf\u03c0\u03bf\u03b8\u03b5\u03c3\u03af\u03b1 \u03b8\u03b1 \u03ad\u03c0\u03c1\u03b5\u03c0\u03b5 \u03bd\u03b1 \u03b2\u03ac\u03bb\u03bf\u03c5\u03bc\u03b5 \u03c4\u03bf path \u03c4\u03bf\u03c5 \u03b1\u03c1\u03c7\u03b5\u03af\u03bf\u03c5 \u03bc\u03b1\u03b6\u03af \u03bc\u03b5 \u03c4\u03bf \u03cc\u03bd\u03bf\u03bc\u03ac \u03c4\u03bf\u03c5 (\u03c0\u03c7 \u03c3\u03b5 linux `'/home/thanos/Desktop/doc.txt'`)\n\u03a0\u03c1\u03ad\u03c0\u03b5\u03b9 \u03bd\u03b1 \u03b4\u03af\u03bd\u03bf\u03c5\u03bc\u03b5 \u03c0\u03c1\u03bf\u03c3\u03bf\u03c7\u03ae \u03bd\u03b1 \u03ba\u03bb\u03b5\u03af\u03bd\u03bf\u03c5\u03bc\u03b5 \u03c4\u03bf \u03b1\u03c1\u03c7\u03b5\u03af\u03bf! \u0393\u03b9\u03b1 \u03bd\u03b1 \u03bc\u03b7\u03bd \u03c4\u03bf \u03be\u03b5\u03c7\u03bd\u03ac\u03bc\u03b5 \u03c0\u03c1\u03bf\u03c4\u03b9\u03bc\u03ac\u03bc\u03b5 \u03bd\u03b1 \u03c7\u03c1\u03b7\u03c3\u03b9\u03bc\u03bf\u03c0\u03bf\u03b9\u03bf\u03cd\u03bc\u03b5 \u03c4\u03b7\u03bd \u03c0\u03b1\u03c1\u03b1\u03ba\u03ac\u03c4\u03c9 \u03c3\u03cd\u03bd\u03c4\u03b1\u03be\u03b7:", 
            "cell_type": "markdown", 
            "metadata": {}
        }, 
        {
            "source": "with open('doc.txt', 'a') as f: # \u03b1\u03bd\u03bf\u03af\u03b3\u03bf\u03c5\u03bc\u03b5 \u03c3\u03b5 mode 'a' --> append\n    f.write('my second line\\n')", 
            "cell_type": "code", 
            "execution_count": 24, 
            "outputs": [], 
            "metadata": {
                "collapsed": true
            }
        }, 
        {
            "source": "\u0391\u03bd\u03ac\u03b3\u03bd\u03c9\u03c3\u03b7 \u03ba\u03b5\u03b9\u03bc\u03ad\u03bd\u03bf\u03c5.", 
            "cell_type": "markdown", 
            "metadata": {}
        }, 
        {
            "source": "with open('doc.txt', 'r') as f: # \u03b1\u03bd\u03bf\u03af\u03b3\u03bf\u03c5\u03bc\u03b5 \u03c3\u03b5 mode 'r' --> read\n    doc = []\n    for line in f: # \u03b4\u03b9\u03b1\u03c4\u03c1\u03ad\u03c7\u03bf\u03c5\u03bc\u03b5 \u03c4\u03bf \u03ba\u03b5\u03af\u03bc\u03b5\u03bd\u03bf \u03b3\u03c1\u03b1\u03bc\u03bc\u03ae-\u03b3\u03c1\u03b1\u03bc\u03bc\u03ae\n        doc.append(line) # \u03b1\u03c0\u03bf\u03b8\u03b7\u03ba\u03b5\u03cd\u03bf\u03c5\u03bc\u03b5 \u03ba\u03ac\u03b8\u03b5 \u03b3\u03c1\u03b1\u03bc\u03bc\u03ae \u03be\u03b5\u03c7\u03c9\u03c1\u03b9\u03c3\u03c4\u03ac \u03c3\u03b5 \u03bc\u03b9\u03b1 \u03bb\u03af\u03c3\u03c4\u03b1\n        \nprint doc", 
            "cell_type": "code", 
            "execution_count": 25, 
            "outputs": [
                {
                    "output_type": "stream", 
                    "name": "stdout", 
                    "text": "['my first line\\n', 'my second line\\n']\n"
                }
            ], 
            "metadata": {}
        }, 
        {
            "source": "## \u03a0\u03af\u03bd\u03b1\u03ba\u03b5\u03c2\n\n\u0397 python \u03b1\u03c0\u03cc \u03bc\u03cc\u03bd\u03b7 \u03c4\u03b7\u03c2 \u03b4\u03b5\u03bd \u03c5\u03c0\u03bf\u03c3\u03c4\u03b7\u03c1\u03af\u03b6\u03b5\u03b9 \u03c0\u03c1\u03ac\u03be\u03b5\u03b9\u03c2 \u03c0\u03b9\u03bd\u03ac\u03ba\u03c9\u03bd. \u0393\u03b9\u03b1 \u03c4\u03bf \u03bb\u03cc\u03b3\u03bf \u03b1\u03c5\u03c4\u03cc \u03c7\u03c1\u03b7\u03c3\u03b9\u03bc\u03bf\u03c0\u03bf\u03b9\u03bf\u03cd\u03bc\u03b5 \u03c4\u03b7 \u03b2\u03b9\u03b2\u03bb\u03b9\u03bf\u03b8\u03ae\u03ba\u03b7 [numpy](http://www.numpy.org/). \u03a0\u03c1\u03bf\u03c3\u03bf\u03c7\u03ae \u03bc\u03b7\u03bd \u03bc\u03c0\u03bb\u03ad\u03ba\u03bf\u03c5\u03bc\u03b5 \u03c4\u03cd\u03c0\u03bf\u03c5\u03c2 \u03b4\u03b5\u03b4\u03bf\u03bc\u03ad\u03bd\u03c9\u03bd \u03c3\u03b5 \u03c0\u03af\u03bd\u03b1\u03ba\u03b5\u03c2 (\u03b4\u03b7\u03bb. **\u03ba\u03ac\u03b8\u03b5 \u03c0\u03af\u03bd\u03b1\u03ba\u03b1\u03c2 \u03bd\u03b1 \u03ad\u03c7\u03b5\u03b9 \u03b4\u03b5\u03b4\u03bf\u03bc\u03ad\u03bd\u03b1 \u03c4\u03bf\u03c5 \u03af\u03b4\u03b9\u03bf\u03c5 \u03c4\u03cd\u03c0\u03bf\u03c5**, \u03c0.\u03c7. float32)", 
            "cell_type": "markdown", 
            "metadata": {}
        }, 
        {
            "source": "import numpy as np\n\na = np.array([[1,2,3],[4,5,6],[7,8,9]])\nb = np.array([[11,22,33],[44,55,66],[77,88,99]])\n\nprint a\nprint b\nprint 'a + b =\\n', a + b \nprint 'elementwise: a * b =\\n', a * b # elementwise\nprint 'matrix multiplication: a * b =\\n', np.dot(a, b)", 
            "cell_type": "code", 
            "execution_count": 26, 
            "outputs": [
                {
                    "output_type": "stream", 
                    "name": "stdout", 
                    "text": "[[1 2 3]\n [4 5 6]\n [7 8 9]]\n[[11 22 33]\n [44 55 66]\n [77 88 99]]\na + b =\n[[ 12  24  36]\n [ 48  60  72]\n [ 84  96 108]]\nelementwise: a * b =\n[[ 11  44  99]\n [176 275 396]\n [539 704 891]]\nmatrix multiplication: a * b =\n[[ 330  396  462]\n [ 726  891 1056]\n [1122 1386 1650]]\n"
                }
            ], 
            "metadata": {}
        }, 
        {
            "source": "\u0397 numpy \u03c5\u03c0\u03bf\u03c3\u03c4\u03b7\u03c1\u03af\u03b6\u03b5\u03b9 \u03ba\u03b1\u03b9 \u03c0\u03c1\u03ac\u03be\u03b5\u03b9\u03c2 \u03b1\u03bd\u03ac\u03bc\u03b5\u03c3\u03b1 \u03c3\u03b5 \u03c0\u03af\u03bd\u03b1\u03ba\u03b5\u03c2 \u03bc\u03b5 \u03b1\u03c3\u03cd\u03bc\u03b2\u03b1\u03c4\u03b5\u03c2 \u03b4\u03b9\u03b1\u03c3\u03c4\u03ac\u03c3\u03b5\u03b9\u03c2 \u03bc\u03ad\u03c3\u03c9 \u03c4\u03bf\u03c5 [broadcasting](http://www.astroml.org/_images/fig_broadcast_visual_1.png).", 
            "cell_type": "markdown", 
            "metadata": {}
        }, 
        {
            "source": "c = np.array([0.5, 1, 1.5])\nprint 'a + c =\\n', a + c # \u03b5\u03c0\u03b1\u03bd\u03b1\u03bb\u03b1\u03bc\u03b2\u03ac\u03bd\u03b5\u03b9 \u03c4\u03bf\u03bd \u03c0\u03af\u03bd\u03b1\u03ba\u03b1 c 3 \u03c6\u03bf\u03c1\u03ad\u03c2 \u03ce\u03c3\u03c4\u03b5 \u03bd\u03b1 \u03c4\u03b1\u03b9\u03c1\u03b9\u03ac\u03be\u03b5\u03b9 \u03bc\u03b5 \u03c4\u03b9\u03c2 \u03b4\u03b9\u03b1\u03c3\u03c4\u03ac\u03c3\u03b5\u03b9\u03c2 \u03c4\u03bf\u03c5 a \u03c0\u03c1\u03b9\u03bd \u03ba\u03ac\u03bd\u03b5\u03b9 \u03c4\u03b7\u03bd \u03c0\u03c1\u03ac\u03be\u03b7\nprint 'a + 1 =\\n', a + 1 # elementwise", 
            "cell_type": "code", 
            "execution_count": 27, 
            "outputs": [
                {
                    "output_type": "stream", 
                    "name": "stdout", 
                    "text": "a + c =\n[[  1.5   3.    4.5]\n [  4.5   6.    7.5]\n [  7.5   9.   10.5]]\na + 1 =\n[[ 2  3  4]\n [ 5  6  7]\n [ 8  9 10]]\n"
                }
            ], 
            "metadata": {}
        }, 
        {
            "source": "### \u03a3\u03c4\u03b1\u03c4\u03b9\u03c3\u03c4\u03b9\u03ba\u03ac \u03c3\u03c4\u03bf\u03b9\u03c7\u03b5\u03af\u03b1 \u03c0\u03af\u03bd\u03b1\u03ba\u03b1", 
            "cell_type": "markdown", 
            "metadata": {}
        }, 
        {
            "source": "print '\u03c4\u03cd\u03c0\u03bf\u03c2 \u03b4\u03b5\u03b4\u03bf\u03bc\u03ad\u03bd\u03c9\u03bd:', a.dtype\nprint '\u03b4\u03b9\u03b1\u03c3\u03c4\u03ac\u03c3\u03b5\u03b9\u03c2:', a.shape\nprint '\u03ac\u03b8\u03c1\u03bf\u03b9\u03c3\u03bc\u03b1 \u03c3\u03c4\u03bf\u03b9\u03c7\u03b5\u03af\u03c9\u03bd \u03c0\u03af\u03bd\u03b1\u03ba\u03b1:', a.sum()\nprint '\u03ac\u03b8\u03c1\u03bf\u03b9\u03c3\u03bc\u03b1 \u03c3\u03c4\u03bf\u03b9\u03c7\u03b5\u03af\u03c9\u03bd \u03b1\u03bd\u03ac \u03b3\u03c1\u03b1\u03bc\u03bc\u03ae:\\n', a.sum(axis=1) # \u03b1\u03bd\u03ac \u03c3\u03c4\u03ae\u03bb\u03b7 \u03b8\u03b1 \u03ae\u03c4\u03b1\u03bd axis=0\nprint '\u03bc\u03ad\u03b3\u03b9\u03c3\u03c4\u03b7 \u03c4\u03b9\u03bc\u03ae \u03c0\u03af\u03bd\u03b1\u03ba\u03b1:', a.max()\nprint '\u03bc\u03ad\u03b3\u03b9\u03c3\u03c4o \u03c3\u03c4\u03bf\u03b9\u03c7\u03b5\u03af\u03bf \u03b1\u03bd\u03ac \u03c3\u03c4\u03ae\u03bb\u03b7:\\n', a.max(axis=0)", 
            "cell_type": "code", 
            "execution_count": 28, 
            "outputs": [
                {
                    "output_type": "stream", 
                    "name": "stdout", 
                    "text": "\u03c4\u03cd\u03c0\u03bf\u03c2 \u03b4\u03b5\u03b4\u03bf\u03bc\u03ad\u03bd\u03c9\u03bd: int64\n\u03b4\u03b9\u03b1\u03c3\u03c4\u03ac\u03c3\u03b5\u03b9\u03c2: (3, 3)\n\u03ac\u03b8\u03c1\u03bf\u03b9\u03c3\u03bc\u03b1 \u03c3\u03c4\u03bf\u03b9\u03c7\u03b5\u03af\u03c9\u03bd \u03c0\u03af\u03bd\u03b1\u03ba\u03b1: 45\n\u03ac\u03b8\u03c1\u03bf\u03b9\u03c3\u03bc\u03b1 \u03c3\u03c4\u03bf\u03b9\u03c7\u03b5\u03af\u03c9\u03bd \u03b1\u03bd\u03ac \u03b3\u03c1\u03b1\u03bc\u03bc\u03ae:\n[ 6 15 24]\n\u03bc\u03ad\u03b3\u03b9\u03c3\u03c4\u03b7 \u03c4\u03b9\u03bc\u03ae \u03c0\u03af\u03bd\u03b1\u03ba\u03b1: 9\n\u03bc\u03ad\u03b3\u03b9\u03c3\u03c4o \u03c3\u03c4\u03bf\u03b9\u03c7\u03b5\u03af\u03bf \u03b1\u03bd\u03ac \u03c3\u03c4\u03ae\u03bb\u03b7:\n[7 8 9]\n"
                }
            ], 
            "metadata": {}
        }, 
        {
            "source": "### \u0394\u03b7\u03bc\u03b9\u03bf\u03c5\u03c1\u03b3\u03af\u03b1 \u03c0\u03b9\u03bd\u03ac\u03ba\u03c9\u03bd", 
            "cell_type": "markdown", 
            "metadata": {}
        }, 
        {
            "source": "z = np.zeros((2,2)) # \u03c6\u03c4\u03b9\u03ac\u03c7\u03bd\u03b5\u03b9 \u03ad\u03bd\u03b1\u03bd \u03c0\u03af\u03bd\u03b1\u03ba\u03b1 \u03bc\u03b5 \u03bc\u03b7\u03b4\u03b5\u03bd\u03b9\u03ba\u03ac \u03c3\u03c7\u03ae\u03bc\u03b1\u03c4\u03bf\u03c2 2x2\nprint z\nd = np.arange(1,10) # \u03c6\u03c4\u03b9\u03ac\u03c7\u03bd\u03b5\u03b9 \u03ad\u03bd\u03b1\u03bd \u03c0\u03af\u03bd\u03b1\u03ba\u03b1 \u03bc\u03b5 \u03c4\u03b9\u03bc\u03ad\u03c2 \u03b1\u03c0\u03cc \u03c4\u03bf 1 \u03bc\u03ad\u03c7\u03c1\u03b9 \u03c4\u03bf 9\nprint d", 
            "cell_type": "code", 
            "execution_count": 29, 
            "outputs": [
                {
                    "output_type": "stream", 
                    "name": "stdout", 
                    "text": "[[ 0.  0.]\n [ 0.  0.]]\n[1 2 3 4 5 6 7 8 9]\n"
                }
            ], 
            "metadata": {}
        }, 
        {
            "source": "### Indexing & slicing", 
            "cell_type": "markdown", 
            "metadata": {}
        }, 
        {
            "source": "print d[4] # \u03b4\u03b5\u03af\u03c7\u03bd\u03b5\u03b9 \u03c4\u03bf 5\u03bf \u03c3\u03c4\u03bf\u03b9\u03c7\u03b5\u03af\u03bf \u03c4\u03bf\u03c5 d\nprint a[1,2] # \u03b4\u03b5\u03af\u03c7\u03bd\u03b5\u03b9 \u03c4\u03bf 3\u03bf \u03c3\u03c4\u03bf\u03b9\u03c7\u03b5\u03af\u03bf \u03b1\u03c0\u03cc \u03c4\u03b7 \u03b4\u03b5\u03cd\u03c4\u03b5\u03c1\u03b7 \u03b3\u03c1\u03b1\u03bc\u03bc\u03ae \u03c4\u03bf\u03c5 a\n\nprint a[:,0] # \u03c6\u03ad\u03c1\u03bd\u03b5\u03b9 \u03cc\u03bb\u03b1 \u03c4\u03b1 \u03c3\u03c4\u03bf\u03b9\u03c7\u03b5\u03af\u03b1 \u03c4\u03b7\u03c2 \u03c0\u03c1\u03ce\u03c4\u03b7\u03c2 \u03c3\u03c4\u03ae\u03bb\u03b7\u03c2 \u03c4\u03bf\u03c5 a", 
            "cell_type": "code", 
            "execution_count": 30, 
            "outputs": [
                {
                    "output_type": "stream", 
                    "name": "stdout", 
                    "text": "5\n6\n[1 4 7]\n"
                }
            ], 
            "metadata": {}
        }, 
        {
            "source": "### \u0391\u03bb\u03bb\u03b1\u03b3\u03ae \u03c3\u03c7\u03ae\u03bc\u03b1\u03c4\u03bf\u03c2 \u03c0\u03af\u03bd\u03b1\u03ba\u03b1", 
            "cell_type": "markdown", 
            "metadata": {}
        }, 
        {
            "source": "print 'old shape:', d.shape\nd = d.reshape((3,3)) # \u03b1\u03bb\u03bb\u03ac\u03b6\u03bf\u03c5\u03bc\u03b5 \u03c4\u03bf \u03c3\u03c7\u03ae\u03bc\u03b1 \u03c3\u03b5 3x3\nprint 'new shape:', d.shape\nprint d", 
            "cell_type": "code", 
            "execution_count": 31, 
            "outputs": [
                {
                    "output_type": "stream", 
                    "name": "stdout", 
                    "text": "old shape: (9,)\nnew shape: (3, 3)\n[[1 2 3]\n [4 5 6]\n [7 8 9]]\n"
                }
            ], 
            "metadata": {}
        }, 
        {
            "source": "\u0395\u03c0\u03af\u03c3\u03b7\u03c2 \u03c5\u03c0\u03bf\u03c3\u03c4\u03b7\u03c1\u03af\u03b6\u03bf\u03bd\u03c4\u03b1\u03b9 \u03ba\u03b1\u03b9 \u03bb\u03bf\u03b3\u03b9\u03ba\u03ad\u03c2 \u03c0\u03c1\u03ac\u03be\u03b5\u03b9\u03c2 \u03bc\u03b5\u03c4\u03b1\u03be\u03cd \u03c0\u03b9\u03bd\u03ac\u03ba\u03c9\u03bd.", 
            "cell_type": "markdown", 
            "metadata": {}
        }, 
        {
            "source": "d = np.arange(9,0,-1).reshape((3,3))\nprint 'a =\\n', a\nprint 'd =\\n', d\n\nprint 'a > d =\\n', a > d", 
            "cell_type": "code", 
            "execution_count": 32, 
            "outputs": [
                {
                    "output_type": "stream", 
                    "name": "stdout", 
                    "text": "a =\n[[1 2 3]\n [4 5 6]\n [7 8 9]]\nd =\n[[9 8 7]\n [6 5 4]\n [3 2 1]]\na > d =\n[[False False False]\n [False False  True]\n [ True  True  True]]\n"
                }
            ], 
            "metadata": {}
        }, 
        {
            "source": "## \u0386\u03c3\u03ba\u03b7\u03c3\u03b7 2:\n\n\u03a6\u03c4\u03b9\u03ac\u03be\u03c4\u03b5 \u03bc\u03b9\u03b1 \u03c3\u03c5\u03bd\u03ac\u03c1\u03c4\u03b7\u03c3\u03b7 \u03c0\u03bf\u03c5 \u03bd\u03b1 \u03b4\u03ad\u03c7\u03b5\u03c4\u03b1\u03b9 2 \u03c0\u03af\u03bd\u03b1\u03ba\u03b5\u03c2 \u0391, \u0392, \u03bd\u03b1 \u03b5\u03bb\u03ad\u03b3\u03c7\u03b5\u03b9 \u03b1\u03bd \u03b1\u03c5\u03c4\u03bf\u03af \u03ad\u03c7\u03bf\u03c5\u03bd \u03c4\u03b9\u03c2 \u03af\u03b4\u03b9\u03b5\u03c2 \u03b4\u03b9\u03b1\u03c3\u03c4\u03ac\u03c3\u03b5\u03b9\u03c2 \u03ba\u03b1\u03b9 \u03bd\u03b1 \u03b5\u03ba\u03c4\u03b5\u03bb\u03b5\u03af \u03c4\u03b7\u03bd \u03c0\u03c1\u03ac\u03be\u03b7 \u0391 - \u0392.", 
            "cell_type": "markdown", 
            "metadata": {}
        }, 
        {
            "source": "def compare_matrices(A,B):\n    if(A.shape==B.shape):\n        C = A-B\n        print(C)\n    else:\n        print('not same dimensions')\n\nA = np.array([[1,2,3],[4,5,6],[7,8,9]])\nB = np.array([[31,32,33],[24,25,26],[17,18,19]])\nC = np.array([[1,2,3],[4,5,6],[7,8,9],[1,2,3],[4,5,6],[7,8,9]])\ncompare_matrices(A,B)\ncompare_matrices(A,C)\ncompare_matrices(B,C)", 
            "cell_type": "code", 
            "execution_count": 33, 
            "outputs": [
                {
                    "output_type": "stream", 
                    "name": "stdout", 
                    "text": "[[-30 -30 -30]\n [-20 -20 -20]\n [-10 -10 -10]]\nnot same dimensions\nnot same dimensions\n"
                }
            ], 
            "metadata": {}
        }, 
        {
            "source": "## \u039a\u03bb\u03ac\u03c3\u03b5\u03b9\u03c2 \u03ba\u03b1\u03b9 \u03b1\u03bd\u03c4\u03b9\u03ba\u03b5\u03af\u03bc\u03b5\u03bd\u03b1", 
            "cell_type": "markdown", 
            "metadata": {}
        }, 
        {
            "source": "class Rectangle:\n    \n    def __init__(self, h, w):\n        # constructor\n        \n        self.height = h # \u03b4\u03b5\u03bd \u03c5\u03c0\u03ac\u03c1\u03c7\u03bf\u03c5\u03bd private \u03bc\u03b5\u03c4\u03b1\u03b2\u03bb\u03b7\u03c4\u03ad\u03c2 \u03c3\u03c4\u03b7\u03bd python\n        self.width = w\n        \n    def area(self):\n        return self.height * self.width\n    \n    def perimeter(self):\n        return 2 * (self.height + self.width)\n    \n    def diagonal(self):\n        return math.sqrt(self.height ** 2 + self.width ** 2)", 
            "cell_type": "code", 
            "execution_count": 34, 
            "outputs": [], 
            "metadata": {
                "collapsed": true
            }
        }, 
        {
            "source": "rec1 = Rectangle(4,2)\nrec2 = Rectangle(3,3)\n\nprint 'Equal areas?', rec1.area() == rec2.area()\nprint 'Equal perimeters?', rec1.perimeter() == rec2.perimeter()\nprint 'Equal diagonals?', rec1.diagonal() == rec2.diagonal()", 
            "cell_type": "code", 
            "execution_count": 35, 
            "outputs": [
                {
                    "output_type": "stream", 
                    "name": "stdout", 
                    "text": "Equal areas? False\nEqual perimeters? True\nEqual diagonals? False\n"
                }
            ], 
            "metadata": {}
        }, 
        {
            "source": "## \u0386\u03c3\u03ba\u03b7\u03c3\u03b7 3:\n\n\u03a6\u03c4\u03b9\u03ac\u03be\u03c4\u03b5 \u03bc\u03b9\u03b1 \u03ba\u03bb\u03ac\u03c3\u03b7 \u03bc\u03b5 \u03cc\u03bd\u03bf\u03bc\u03b1 Circle \u03b7 \u03bf\u03c0\u03bf\u03af\u03b1 \u03b8\u03b1 \u03ad\u03c7\u03b5\u03b9 2 \u03bc\u03b5\u03b8\u03cc\u03b4\u03bf\u03c5\u03c2 \u03c0\u03bf\u03c5 \u03b8\u03b1 \u03c5\u03c0\u03bf\u03bb\u03bf\u03b3\u03af\u03b6\u03bf\u03c5\u03bd \u03c4\u03b7\u03bd \u03c0\u03b5\u03c1\u03b9\u03c6\u03ad\u03c1\u03b5\u03b9\u03b1 \u03ba\u03b1\u03b9 \u03c4\u03bf \u03b5\u03bc\u03b2\u03b1\u03b4\u03cc\u03bd \u03c4\u03bf\u03c5. \u03a7\u03c1\u03b7\u03c3\u03b9\u03bc\u03bf\u03c0\u03bf\u03b9\u03ae\u03c3\u03c4\u03b5 \u03c4\u03b7\u03bd \u03c3\u03c4\u03b1\u03b8\u03b5\u03c1\u03ac math.pi", 
            "cell_type": "markdown", 
            "metadata": {}
        }, 
        {
            "source": "class Circle:\n    def __init__(self, r):\n        self.r = r\n    def area(self):\n        print 3.14*(self.r*self.r)\n    def perimeter(self):\n        print 2*3.14*self.r\n        \ncir1 = Circle(2)\ncir2 = Circle(5)\n\ncir1.area()\ncir2.area()\ncir1.perimeter()\ncir2.perimeter()\n", 
            "cell_type": "code", 
            "execution_count": 41, 
            "outputs": [
                {
                    "output_type": "stream", 
                    "name": "stdout", 
                    "text": "12.56\n78.5\n12.56\n31.4\n"
                }
            ], 
            "metadata": {}
        }, 
        {
            "source": "## \u03a7\u03b5\u03b9\u03c1\u03b9\u03c3\u03bc\u03cc\u03c2 \u03b1\u03c1\u03c7\u03b5\u03af\u03c9\u03bd csv\n\n\u0388\u03bd\u03b1 \u03c0\u03bf\u03bb\u03cd \u03c7\u03c1\u03ae\u03c3\u03b9\u03bc\u03bf format \u03b1\u03c1\u03c7\u03b5\u03af\u03c9\u03bd \u03b5\u03af\u03bd\u03b1\u03b9 \u03c4\u03bf **csv** (comma separated values), \u03c4\u03bf \u03bf\u03c0\u03bf\u03af\u03bf \u03bc\u03b1\u03c2 \u03b5\u03c0\u03b9\u03c4\u03c1\u03ad\u03c0\u03b5\u03b9 \u03b5\u03cd\u03ba\u03bf\u03bb\u03b1 \u03bd\u03b1 \u03b1\u03c0\u03bf\u03b8\u03b7\u03ba\u03b5\u03cd\u03bf\u03c5\u03bc\u03b5 \u03ba\u03b1\u03b9 \u03bd\u03b1 \u03b4\u03b9\u03b1\u03b2\u03ac\u03b6\u03bf\u03c5\u03bc\u03b5 \u03c0\u03af\u03bd\u03b1\u03ba\u03b5\u03c2.", 
            "cell_type": "markdown", 
            "metadata": {}
        }, 
        {
            "source": "print a\nnp.savetxt('myarray.csv', a, delimiter=',') # \u03b1\u03c0\u03bf\u03b8\u03b7\u03ba\u03b5\u03cd\u03bf\u03c5\u03bc\u03b5 \u03c3\u03b5 \u03ad\u03bd\u03b1 \u03b1\u03c1\u03c7\u03b5\u03af\u03bf \u03c4\u03bf\u03bd \u03c0\u03af\u03bd\u03b1\u03ba\u03ac \u03bc\u03b1\u03c2\n                                            # \u03c4\u03b1 \u03ba\u03b5\u03bb\u03b9\u03ac \u03c7\u03c9\u03c1\u03af\u03b6\u03bf\u03bd\u03c4\u03b1\u03b9 \u03bc\u03b5 , \u03ba\u03b1\u03b9 \u03bf\u03b9 \u03b3\u03c1\u03b1\u03bc\u03bc\u03ad\u03c2 \u03bc\u03b5 \\n", 
            "cell_type": "code", 
            "execution_count": 42, 
            "outputs": [
                {
                    "output_type": "stream", 
                    "name": "stdout", 
                    "text": "[[1 2 3]\n [4 5 6]\n [7 8 9]]\n"
                }
            ], 
            "metadata": {}
        }, 
        {
            "source": "\u0393\u03b9\u03b1 \u03bd\u03b1 \u03c4\u03bf \u03c6\u03bf\u03c1\u03c4\u03ce\u03c3\u03bf\u03c5\u03bc\u03b5 \u03c4\u03bf \u03b1\u03c1\u03c7\u03b5\u03af\u03bf:", 
            "cell_type": "markdown", 
            "metadata": {}
        }, 
        {
            "source": "loaded_arr = np.loadtxt('myarray.csv', delimiter=',')\nprint loaded_arr", 
            "cell_type": "code", 
            "execution_count": 43, 
            "outputs": [
                {
                    "output_type": "stream", 
                    "name": "stdout", 
                    "text": "[[ 1.  2.  3.]\n [ 4.  5.  6.]\n [ 7.  8.  9.]]\n"
                }
            ], 
            "metadata": {}
        }, 
        {
            "source": "## Pandas\n\n\u0397 [pandas](http://pandas.pydata.org/) \u03b5\u03af\u03bd\u03b1\u03b9 \u03bc\u03b9\u03b1 \u03b2\u03b9\u03b2\u03bb\u03b9\u03bf\u03b8\u03ae\u03ba\u03b7 \u03c4\u03b7\u03c2 python \u03c0\u03bf\u03c5 \u03c0\u03b5\u03c1\u03b9\u03ad\u03c7\u03b5\u03b9 \u03ba\u03b1\u03b9\u03bd\u03bf\u03cd\u03c1\u03b3\u03b9\u03b1 data structures (\u03cc\u03c0\u03c9\u03c2 \u03c4\u03bf [series](https://pandas.pydata.org/pandas-docs/stable/generated/pandas.Series.html) \u03ba\u03b1\u03b9 \u03c4\u03bf [dataframe](https://pandas.pydata.org/pandas-docs/stable/generated/pandas.DataFrame.html)) \u03ba\u03b1\u03b8\u03ce\u03c2 \u03ba\u03b1\u03b9 \u03b5\u03c1\u03b3\u03b1\u03bb\u03b5\u03af\u03b1 \u03b1\u03bd\u03ac\u03bb\u03c5\u03c3\u03b7\u03c2 \u03b4\u03b5\u03b4\u03bf\u03bc\u03ad\u03bd\u03c9\u03bd. \u0395\u03bc\u03b5\u03af\u03c2 \u03b8\u03b1 \u03c4\u03b7\u03bd \u03c7\u03c1\u03b7\u03c3\u03b9\u03bc\u03bf\u03c0\u03bf\u03b9\u03ae\u03c3\u03bf\u03c5\u03bc\u03b5 \u03ba\u03c5\u03c1\u03af\u03c9\u03c2 \u03b3\u03b9\u03b1 \u03c4\u03bf input-output. \u0397 \u03b2\u03b1\u03c3\u03b9\u03ba\u03ae \u03b4\u03bf\u03bc\u03ae \u03c0\u03bf\u03c5 \u03b8\u03b1 \u03c7\u03c1\u03b7\u03c3\u03b9\u03bc\u03bf\u03c0\u03bf\u03b9\u03ae\u03c3\u03bf\u03c5\u03bc\u03b5 \u03b5\u03af\u03bd\u03b1\u03b9 \u03c4\u03bf **dataframe** \u03c4\u03bf \u03bf\u03c0\u03bf\u03af\u03bf \u03b5\u03af\u03bd\u03b1\u03b9 \u03ad\u03bd\u03b1\u03c2 \u03c0\u03af\u03bd\u03b1\u03ba\u03b1\u03c2 \u03c0\u03bf\u03c5, \u03c3\u03b5 \u03b1\u03bd\u03c4\u03af\u03b8\u03b5\u03c3\u03b7 \u03bc\u03b5 \u03c4\u03bf numpy, \u03bc\u03c0\u03bf\u03c1\u03b5\u03af \u03ba\u03b1\u03b9 \u03b4\u03ad\u03c7\u03b5\u03c4\u03b1\u03b9 \u03b4\u03b9\u03b1\u03c6\u03bf\u03c1\u03b5\u03c4\u03b9\u03ba\u03bf\u03cd\u03c2  \u03c4\u03cd\u03c0\u03bf\u03c5\u03c2 \u03b4\u03b5\u03b4\u03bf\u03bc\u03ad\u03bd\u03c9\u03bd \u03b1\u03bd\u03ac \u03c3\u03c4\u03ae\u03bb\u03b7.", 
            "cell_type": "markdown", 
            "metadata": {
                "collapsed": true
            }
        }, 
        {
            "source": "import pandas as pd\ndf = pd.DataFrame({'A' : range(5,10),\n                   'B' : 'blabla',\n                   'C' : np.arange(0,5)[::-1],\n                   'D' : 1})\nprint df", 
            "cell_type": "code", 
            "execution_count": 44, 
            "outputs": [
                {
                    "output_type": "stream", 
                    "name": "stdout", 
                    "text": "   A       B  C  D\n0  5  blabla  4  1\n1  6  blabla  3  1\n2  7  blabla  2  1\n3  8  blabla  1  1\n4  9  blabla  0  1\n"
                }
            ], 
            "metadata": {}
        }, 
        {
            "source": "\u0393\u03b9\u03b1 \u03bd\u03b1 \u03b4\u03bf\u03cd\u03bc\u03b5 \u03c4\u03bf\u03c5\u03c2 \u03c4\u03cd\u03c0\u03bf\u03c5\u03c2 \u03b4\u03b5\u03b4\u03bf\u03bc\u03ad\u03bd\u03c9\u03bd \u03c4\u03bf\u03c5 dataframe:", 
            "cell_type": "markdown", 
            "metadata": {}
        }, 
        {
            "source": "print df.dtypes", 
            "cell_type": "code", 
            "execution_count": 45, 
            "outputs": [
                {
                    "output_type": "stream", 
                    "name": "stdout", 
                    "text": "A     int64\nB    object\nC     int64\nD     int64\ndtype: object\n"
                }
            ], 
            "metadata": {}
        }, 
        {
            "source": "\u039f\u03b9 \u03c3\u03c4\u03ae\u03bb\u03b5\u03c2 \u03c4\u03bf\u03c5 dataframe \u03ad\u03c7\u03bf\u03c5\u03bd \u03bf\u03bd\u03cc\u03bc\u03b1\u03c4\u03b1 \u03bc\u03b5 \u03c4\u03b1 \u03bf\u03c0\u03bf\u03af\u03b1 \u03bc\u03c0\u03bf\u03c1\u03bf\u03cd\u03bc\u03b5 \u03bd\u03b1 \u03b1\u03bd\u03b1\u03c6\u03b5\u03c1\u03b8\u03bf\u03cd\u03bc\u03b5 \u03c3\u03b5 \u03b1\u03c5\u03c4\u03ad\u03c2 (\u03c3\u03b1\u03bd \u03ad\u03bd\u03b1 dictionary). \u0393\u03b9\u03b1 \u03bd\u03b1 \u03b4\u03bf\u03cd\u03bc\u03b5 \u03c4\u03b1 \u03bf\u03bd\u03cc\u03bc\u03b1\u03c4\u03b1 \u03b1\u03c5\u03c4\u03ac \u03bc\u03c0\u03bf\u03c1\u03bf\u03cd\u03bc\u03b5 \u03bd\u03b1 \u03c0\u03b1\u03c4\u03ae\u03c3\u03bf\u03c5\u03bc\u03b5 \u03c4\u03b7\u03bd \u03b5\u03bd\u03c4\u03bf\u03bb\u03ae df.columns. \u0391\u03bd\u03c4\u03af\u03c3\u03c4\u03bf\u03b9\u03c7\u03b1 \u03c5\u03c0\u03ac\u03c1\u03c7\u03b5\u03b9 \u03ba\u03b1\u03b9 \u03b7 df.index \u03b3\u03b9\u03b1 \u03c4\u03b1 index \u03c4\u03c9\u03bd \u03b3\u03c1\u03b1\u03bc\u03bc\u03ce\u03bd. \u0393\u03b9\u03b1 \u03bd\u03b1 \u03b1\u03c0\u03bf\u03bc\u03bf\u03bd\u03ce\u03c3\u03bf\u03c5\u03bc\u03b5 \u03c4\u03b1 \u03c3\u03c4\u03bf\u03b9\u03c7\u03b5\u03af\u03b1 \u03c4\u03b7\u03c2 \u03b4\u03b5\u03cd\u03c4\u03b5\u03c1\u03b7\u03c2 \u03c3\u03c4\u03ae\u03bb\u03b7\u03c2 (\u03c0\u03bf\u03c5 \u03ad\u03c7\u03bf\u03c5\u03bc\u03b5 \u03bf\u03bd\u03bf\u03bc\u03ac\u03c3\u03b5\u03b9 *B*):", 
            "cell_type": "markdown", 
            "metadata": {}
        }, 
        {
            "source": "print df['B']", 
            "cell_type": "code", 
            "execution_count": 46, 
            "outputs": [
                {
                    "output_type": "stream", 
                    "name": "stdout", 
                    "text": "0    blabla\n1    blabla\n2    blabla\n3    blabla\n4    blabla\nName: B, dtype: object\n"
                }
            ], 
            "metadata": {}
        }, 
        {
            "source": "\u03a3\u03c4\u03b9\u03c2 \u03b3\u03c1\u03b1\u03bc\u03bc\u03ad\u03c2 \u03c4\u03bf slicing \u03b3\u03af\u03bd\u03b5\u03c4\u03b1\u03b9 \u03cc\u03c0\u03c9\u03c2 \u03ba\u03b1\u03b9 \u03c3\u03c4\u03bf numpy.", 
            "cell_type": "markdown", 
            "metadata": {}
        }, 
        {
            "source": "df[1:3]", 
            "cell_type": "code", 
            "execution_count": 47, 
            "outputs": [
                {
                    "output_type": "execute_result", 
                    "data": {
                        "text/html": "<div>\n<style scoped>\n    .dataframe tbody tr th:only-of-type {\n        vertical-align: middle;\n    }\n\n    .dataframe tbody tr th {\n        vertical-align: top;\n    }\n\n    .dataframe thead th {\n        text-align: right;\n    }\n</style>\n<table border=\"1\" class=\"dataframe\">\n  <thead>\n    <tr style=\"text-align: right;\">\n      <th></th>\n      <th>A</th>\n      <th>B</th>\n      <th>C</th>\n      <th>D</th>\n    </tr>\n  </thead>\n  <tbody>\n    <tr>\n      <th>1</th>\n      <td>6</td>\n      <td>blabla</td>\n      <td>3</td>\n      <td>1</td>\n    </tr>\n    <tr>\n      <th>2</th>\n      <td>7</td>\n      <td>blabla</td>\n      <td>2</td>\n      <td>1</td>\n    </tr>\n  </tbody>\n</table>\n</div>", 
                        "text/plain": "   A       B  C  D\n1  6  blabla  3  1\n2  7  blabla  2  1"
                    }, 
                    "execution_count": 47, 
                    "metadata": {}
                }
            ], 
            "metadata": {}
        }, 
        {
            "source": "\u03a0\u03c1\u03bf\u03c3\u03bf\u03c7\u03ae \u03b8\u03ad\u03bb\u03b5\u03b9 \u03cc\u03c4\u03b1\u03bd \u03b8\u03ad\u03bb\u03bf\u03c5\u03bc\u03b5 \u03bd\u03b1 \u03c0\u03ac\u03c1\u03bf\u03c5\u03bc\u03b5 \u03bc\u03b9\u03b1 \u03bc\u03bf\u03bd\u03b1\u03b4\u03b9\u03ba\u03ae \u03b3\u03c1\u03b1\u03bc\u03bc\u03ae. \u0394\u03b5\u03bd \u03b4\u03bf\u03c5\u03bb\u03b5\u03cd\u03b5\u03b9 \u03c4\u03bf indexing \u03cc\u03c0\u03c9\u03c2 \u03c3\u03c4\u03b7\u03bd numpy:", 
            "cell_type": "markdown", 
            "metadata": {}
        }, 
        {
            "source": "df[3]", 
            "cell_type": "code", 
            "execution_count": 48, 
            "outputs": [
                {
                    "output_type": "error", 
                    "evalue": "3", 
                    "traceback": [
                        "\u001b[0;31m\u001b[0m", 
                        "\u001b[0;31mKeyError\u001b[0mTraceback (most recent call last)", 
                        "\u001b[0;32m<ipython-input-48-114cf64b7cdd>\u001b[0m in \u001b[0;36m<module>\u001b[0;34m()\u001b[0m\n\u001b[0;32m----> 1\u001b[0;31m \u001b[0mdf\u001b[0m\u001b[0;34m[\u001b[0m\u001b[0;36m3\u001b[0m\u001b[0;34m]\u001b[0m\u001b[0;34m\u001b[0m\u001b[0m\n\u001b[0m", 
                        "\u001b[0;32m/gpfs/fs01/user/s440-f39bd962225440-fe8dadcb5f83/.local/lib/python2.7/site-packages/pandas/core/frame.pyc\u001b[0m in \u001b[0;36m__getitem__\u001b[0;34m(self, key)\u001b[0m\n\u001b[1;32m   2137\u001b[0m             \u001b[0;32mreturn\u001b[0m \u001b[0mself\u001b[0m\u001b[0;34m.\u001b[0m\u001b[0m_getitem_multilevel\u001b[0m\u001b[0;34m(\u001b[0m\u001b[0mkey\u001b[0m\u001b[0;34m)\u001b[0m\u001b[0;34m\u001b[0m\u001b[0m\n\u001b[1;32m   2138\u001b[0m         \u001b[0;32melse\u001b[0m\u001b[0;34m:\u001b[0m\u001b[0;34m\u001b[0m\u001b[0m\n\u001b[0;32m-> 2139\u001b[0;31m             \u001b[0;32mreturn\u001b[0m \u001b[0mself\u001b[0m\u001b[0;34m.\u001b[0m\u001b[0m_getitem_column\u001b[0m\u001b[0;34m(\u001b[0m\u001b[0mkey\u001b[0m\u001b[0;34m)\u001b[0m\u001b[0;34m\u001b[0m\u001b[0m\n\u001b[0m\u001b[1;32m   2140\u001b[0m \u001b[0;34m\u001b[0m\u001b[0m\n\u001b[1;32m   2141\u001b[0m     \u001b[0;32mdef\u001b[0m \u001b[0m_getitem_column\u001b[0m\u001b[0;34m(\u001b[0m\u001b[0mself\u001b[0m\u001b[0;34m,\u001b[0m \u001b[0mkey\u001b[0m\u001b[0;34m)\u001b[0m\u001b[0;34m:\u001b[0m\u001b[0;34m\u001b[0m\u001b[0m\n", 
                        "\u001b[0;32m/gpfs/fs01/user/s440-f39bd962225440-fe8dadcb5f83/.local/lib/python2.7/site-packages/pandas/core/frame.pyc\u001b[0m in \u001b[0;36m_getitem_column\u001b[0;34m(self, key)\u001b[0m\n\u001b[1;32m   2144\u001b[0m         \u001b[0;31m# get column\u001b[0m\u001b[0;34m\u001b[0m\u001b[0;34m\u001b[0m\u001b[0m\n\u001b[1;32m   2145\u001b[0m         \u001b[0;32mif\u001b[0m \u001b[0mself\u001b[0m\u001b[0;34m.\u001b[0m\u001b[0mcolumns\u001b[0m\u001b[0;34m.\u001b[0m\u001b[0mis_unique\u001b[0m\u001b[0;34m:\u001b[0m\u001b[0;34m\u001b[0m\u001b[0m\n\u001b[0;32m-> 2146\u001b[0;31m             \u001b[0;32mreturn\u001b[0m \u001b[0mself\u001b[0m\u001b[0;34m.\u001b[0m\u001b[0m_get_item_cache\u001b[0m\u001b[0;34m(\u001b[0m\u001b[0mkey\u001b[0m\u001b[0;34m)\u001b[0m\u001b[0;34m\u001b[0m\u001b[0m\n\u001b[0m\u001b[1;32m   2147\u001b[0m \u001b[0;34m\u001b[0m\u001b[0m\n\u001b[1;32m   2148\u001b[0m         \u001b[0;31m# duplicate columns & possible reduce dimensionality\u001b[0m\u001b[0;34m\u001b[0m\u001b[0;34m\u001b[0m\u001b[0m\n", 
                        "\u001b[0;32m/gpfs/fs01/user/s440-f39bd962225440-fe8dadcb5f83/.local/lib/python2.7/site-packages/pandas/core/generic.pyc\u001b[0m in \u001b[0;36m_get_item_cache\u001b[0;34m(self, item)\u001b[0m\n\u001b[1;32m   1840\u001b[0m         \u001b[0mres\u001b[0m \u001b[0;34m=\u001b[0m \u001b[0mcache\u001b[0m\u001b[0;34m.\u001b[0m\u001b[0mget\u001b[0m\u001b[0;34m(\u001b[0m\u001b[0mitem\u001b[0m\u001b[0;34m)\u001b[0m\u001b[0;34m\u001b[0m\u001b[0m\n\u001b[1;32m   1841\u001b[0m         \u001b[0;32mif\u001b[0m \u001b[0mres\u001b[0m \u001b[0;32mis\u001b[0m \u001b[0mNone\u001b[0m\u001b[0;34m:\u001b[0m\u001b[0;34m\u001b[0m\u001b[0m\n\u001b[0;32m-> 1842\u001b[0;31m             \u001b[0mvalues\u001b[0m \u001b[0;34m=\u001b[0m \u001b[0mself\u001b[0m\u001b[0;34m.\u001b[0m\u001b[0m_data\u001b[0m\u001b[0;34m.\u001b[0m\u001b[0mget\u001b[0m\u001b[0;34m(\u001b[0m\u001b[0mitem\u001b[0m\u001b[0;34m)\u001b[0m\u001b[0;34m\u001b[0m\u001b[0m\n\u001b[0m\u001b[1;32m   1843\u001b[0m             \u001b[0mres\u001b[0m \u001b[0;34m=\u001b[0m \u001b[0mself\u001b[0m\u001b[0;34m.\u001b[0m\u001b[0m_box_item_values\u001b[0m\u001b[0;34m(\u001b[0m\u001b[0mitem\u001b[0m\u001b[0;34m,\u001b[0m \u001b[0mvalues\u001b[0m\u001b[0;34m)\u001b[0m\u001b[0;34m\u001b[0m\u001b[0m\n\u001b[1;32m   1844\u001b[0m             \u001b[0mcache\u001b[0m\u001b[0;34m[\u001b[0m\u001b[0mitem\u001b[0m\u001b[0;34m]\u001b[0m \u001b[0;34m=\u001b[0m \u001b[0mres\u001b[0m\u001b[0;34m\u001b[0m\u001b[0m\n", 
                        "\u001b[0;32m/gpfs/fs01/user/s440-f39bd962225440-fe8dadcb5f83/.local/lib/python2.7/site-packages/pandas/core/internals.pyc\u001b[0m in \u001b[0;36mget\u001b[0;34m(self, item, fastpath)\u001b[0m\n\u001b[1;32m   3836\u001b[0m \u001b[0;34m\u001b[0m\u001b[0m\n\u001b[1;32m   3837\u001b[0m             \u001b[0;32mif\u001b[0m \u001b[0;32mnot\u001b[0m \u001b[0misna\u001b[0m\u001b[0;34m(\u001b[0m\u001b[0mitem\u001b[0m\u001b[0;34m)\u001b[0m\u001b[0;34m:\u001b[0m\u001b[0;34m\u001b[0m\u001b[0m\n\u001b[0;32m-> 3838\u001b[0;31m                 \u001b[0mloc\u001b[0m \u001b[0;34m=\u001b[0m \u001b[0mself\u001b[0m\u001b[0;34m.\u001b[0m\u001b[0mitems\u001b[0m\u001b[0;34m.\u001b[0m\u001b[0mget_loc\u001b[0m\u001b[0;34m(\u001b[0m\u001b[0mitem\u001b[0m\u001b[0;34m)\u001b[0m\u001b[0;34m\u001b[0m\u001b[0m\n\u001b[0m\u001b[1;32m   3839\u001b[0m             \u001b[0;32melse\u001b[0m\u001b[0;34m:\u001b[0m\u001b[0;34m\u001b[0m\u001b[0m\n\u001b[1;32m   3840\u001b[0m                 \u001b[0mindexer\u001b[0m \u001b[0;34m=\u001b[0m \u001b[0mnp\u001b[0m\u001b[0;34m.\u001b[0m\u001b[0marange\u001b[0m\u001b[0;34m(\u001b[0m\u001b[0mlen\u001b[0m\u001b[0;34m(\u001b[0m\u001b[0mself\u001b[0m\u001b[0;34m.\u001b[0m\u001b[0mitems\u001b[0m\u001b[0;34m)\u001b[0m\u001b[0;34m)\u001b[0m\u001b[0;34m[\u001b[0m\u001b[0misna\u001b[0m\u001b[0;34m(\u001b[0m\u001b[0mself\u001b[0m\u001b[0;34m.\u001b[0m\u001b[0mitems\u001b[0m\u001b[0;34m)\u001b[0m\u001b[0;34m]\u001b[0m\u001b[0;34m\u001b[0m\u001b[0m\n", 
                        "\u001b[0;32m/gpfs/fs01/user/s440-f39bd962225440-fe8dadcb5f83/.local/lib/python2.7/site-packages/pandas/core/indexes/base.pyc\u001b[0m in \u001b[0;36mget_loc\u001b[0;34m(self, key, method, tolerance)\u001b[0m\n\u001b[1;32m   2522\u001b[0m                 \u001b[0;32mreturn\u001b[0m \u001b[0mself\u001b[0m\u001b[0;34m.\u001b[0m\u001b[0m_engine\u001b[0m\u001b[0;34m.\u001b[0m\u001b[0mget_loc\u001b[0m\u001b[0;34m(\u001b[0m\u001b[0mkey\u001b[0m\u001b[0;34m)\u001b[0m\u001b[0;34m\u001b[0m\u001b[0m\n\u001b[1;32m   2523\u001b[0m             \u001b[0;32mexcept\u001b[0m \u001b[0mKeyError\u001b[0m\u001b[0;34m:\u001b[0m\u001b[0;34m\u001b[0m\u001b[0m\n\u001b[0;32m-> 2524\u001b[0;31m                 \u001b[0;32mreturn\u001b[0m \u001b[0mself\u001b[0m\u001b[0;34m.\u001b[0m\u001b[0m_engine\u001b[0m\u001b[0;34m.\u001b[0m\u001b[0mget_loc\u001b[0m\u001b[0;34m(\u001b[0m\u001b[0mself\u001b[0m\u001b[0;34m.\u001b[0m\u001b[0m_maybe_cast_indexer\u001b[0m\u001b[0;34m(\u001b[0m\u001b[0mkey\u001b[0m\u001b[0;34m)\u001b[0m\u001b[0;34m)\u001b[0m\u001b[0;34m\u001b[0m\u001b[0m\n\u001b[0m\u001b[1;32m   2525\u001b[0m \u001b[0;34m\u001b[0m\u001b[0m\n\u001b[1;32m   2526\u001b[0m         \u001b[0mindexer\u001b[0m \u001b[0;34m=\u001b[0m \u001b[0mself\u001b[0m\u001b[0;34m.\u001b[0m\u001b[0mget_indexer\u001b[0m\u001b[0;34m(\u001b[0m\u001b[0;34m[\u001b[0m\u001b[0mkey\u001b[0m\u001b[0;34m]\u001b[0m\u001b[0;34m,\u001b[0m \u001b[0mmethod\u001b[0m\u001b[0;34m=\u001b[0m\u001b[0mmethod\u001b[0m\u001b[0;34m,\u001b[0m \u001b[0mtolerance\u001b[0m\u001b[0;34m=\u001b[0m\u001b[0mtolerance\u001b[0m\u001b[0;34m)\u001b[0m\u001b[0;34m\u001b[0m\u001b[0m\n", 
                        "\u001b[0;32mpandas/_libs/index.pyx\u001b[0m in \u001b[0;36mpandas._libs.index.IndexEngine.get_loc\u001b[0;34m()\u001b[0m\n", 
                        "\u001b[0;32mpandas/_libs/index.pyx\u001b[0m in \u001b[0;36mpandas._libs.index.IndexEngine.get_loc\u001b[0;34m()\u001b[0m\n", 
                        "\u001b[0;32mpandas/_libs/hashtable_class_helper.pxi\u001b[0m in \u001b[0;36mpandas._libs.hashtable.PyObjectHashTable.get_item\u001b[0;34m()\u001b[0m\n", 
                        "\u001b[0;32mpandas/_libs/hashtable_class_helper.pxi\u001b[0m in \u001b[0;36mpandas._libs.hashtable.PyObjectHashTable.get_item\u001b[0;34m()\u001b[0m\n", 
                        "\u001b[0;31mKeyError\u001b[0m: 3"
                    ], 
                    "ename": "KeyError"
                }
            ], 
            "metadata": {}
        }, 
        {
            "source": "\u0391\u03bd\u03c4\u03af\u03b8\u03b5\u03c4\u03b1 \u03c0\u03c1\u03ad\u03c0\u03b5\u03b9 \u03bd\u03b1 \u03c7\u03c1\u03b7\u03c3\u03b9\u03bc\u03bf\u03c0\u03bf\u03b9\u03ae\u03c3\u03bf\u03c5\u03bc\u03b5 \u03c4\u03bf `.loc` \u03ae \u03c4\u03bf `.iloc`.", 
            "cell_type": "markdown", 
            "metadata": {}
        }, 
        {
            "source": "print df.loc[3]", 
            "cell_type": "code", 
            "execution_count": 49, 
            "outputs": [
                {
                    "output_type": "stream", 
                    "name": "stdout", 
                    "text": "A         8\nB    blabla\nC         1\nD         1\nName: 3, dtype: object\n"
                }
            ], 
            "metadata": {}
        }, 
        {
            "source": "\u0392\u03b1\u03c3\u03b9\u03ba\u03ac \u03c3\u03c4\u03b1\u03c4\u03b9\u03c3\u03c4\u03b9\u03ba\u03ac \u03c3\u03c4\u03bf\u03b9\u03c7\u03b5\u03af\u03b1 \u03c0\u03af\u03bd\u03b1\u03ba\u03b1:", 
            "cell_type": "markdown", 
            "metadata": {}
        }, 
        {
            "source": "df.describe() # \u03b4\u03bf\u03c5\u03bb\u03b5\u03cd\u03b5\u03b9 \u03b3\u03b9\u03b1 \u03c4\u03b9\u03c2 \u03c3\u03c4\u03ae\u03bb\u03b5\u03c2 \u03c0\u03bf\u03c5 \u03c0\u03b5\u03c1\u03b9\u03ad\u03c7\u03bf\u03c5\u03bd \u03b1\u03c1\u03b9\u03b8\u03bc\u03b7\u03c4\u03b9\u03ba\u03ac \u03b4\u03b5\u03b4\u03bf\u03bc\u03ad\u03bd\u03b1", 
            "cell_type": "code", 
            "execution_count": 50, 
            "outputs": [
                {
                    "output_type": "execute_result", 
                    "data": {
                        "text/html": "<div>\n<style scoped>\n    .dataframe tbody tr th:only-of-type {\n        vertical-align: middle;\n    }\n\n    .dataframe tbody tr th {\n        vertical-align: top;\n    }\n\n    .dataframe thead th {\n        text-align: right;\n    }\n</style>\n<table border=\"1\" class=\"dataframe\">\n  <thead>\n    <tr style=\"text-align: right;\">\n      <th></th>\n      <th>A</th>\n      <th>C</th>\n      <th>D</th>\n    </tr>\n  </thead>\n  <tbody>\n    <tr>\n      <th>count</th>\n      <td>5.000000</td>\n      <td>5.000000</td>\n      <td>5.0</td>\n    </tr>\n    <tr>\n      <th>mean</th>\n      <td>7.000000</td>\n      <td>2.000000</td>\n      <td>1.0</td>\n    </tr>\n    <tr>\n      <th>std</th>\n      <td>1.581139</td>\n      <td>1.581139</td>\n      <td>0.0</td>\n    </tr>\n    <tr>\n      <th>min</th>\n      <td>5.000000</td>\n      <td>0.000000</td>\n      <td>1.0</td>\n    </tr>\n    <tr>\n      <th>25%</th>\n      <td>6.000000</td>\n      <td>1.000000</td>\n      <td>1.0</td>\n    </tr>\n    <tr>\n      <th>50%</th>\n      <td>7.000000</td>\n      <td>2.000000</td>\n      <td>1.0</td>\n    </tr>\n    <tr>\n      <th>75%</th>\n      <td>8.000000</td>\n      <td>3.000000</td>\n      <td>1.0</td>\n    </tr>\n    <tr>\n      <th>max</th>\n      <td>9.000000</td>\n      <td>4.000000</td>\n      <td>1.0</td>\n    </tr>\n  </tbody>\n</table>\n</div>", 
                        "text/plain": "              A         C    D\ncount  5.000000  5.000000  5.0\nmean   7.000000  2.000000  1.0\nstd    1.581139  1.581139  0.0\nmin    5.000000  0.000000  1.0\n25%    6.000000  1.000000  1.0\n50%    7.000000  2.000000  1.0\n75%    8.000000  3.000000  1.0\nmax    9.000000  4.000000  1.0"
                    }, 
                    "execution_count": 50, 
                    "metadata": {}
                }
            ], 
            "metadata": {}
        }, 
        {
            "source": "\u039c\u03b9\u03b1 \u03b5\u03bd\u03b4\u03b9\u03b1\u03c6\u03ad\u03c1\u03bf\u03c5\u03c3\u03b1 \u03b5\u03c6\u03b1\u03c1\u03bc\u03bf\u03b3\u03ae \u03c3\u03c4\u03bf pandas \u03b5\u03af\u03bd\u03b1\u03b9 \u03b7 \u03b5\u03c6\u03b1\u03c1\u03bc\u03bf\u03b3\u03ae \u03c6\u03af\u03bb\u03c4\u03c1\u03c9\u03bd \u03c3\u03c4\u03bf dataframe. \u03a0.\u03c7. \u03b1\u03bd \u03b8\u03ad\u03bb\u03bf\u03c5\u03bc\u03b5 \u03bd\u03b1 \u03c0\u03ac\u03c1\u03bf\u03c5\u03bc\u03b5 \u03c4\u03b9\u03c2 \u03b3\u03c1\u03b1\u03bc\u03bc\u03ad\u03c2 \u03c3\u03c4\u03b9\u03c2 \u03bf\u03c0\u03bf\u03af\u03b5\u03c2 \u03b7 \u03c3\u03c4\u03ae\u03bb\u03b7 *C* \u03ad\u03c7\u03b5\u03b9 \u03c4\u03b9\u03bc\u03ae \u03bc\u03b9\u03ba\u03c1\u03cc\u03c4\u03b5\u03c1\u03b7 \u03b1\u03c0\u03cc 3:", 
            "cell_type": "markdown", 
            "metadata": {}
        }, 
        {
            "source": "df[df['C'] < 3 ]", 
            "cell_type": "code", 
            "execution_count": 51, 
            "outputs": [
                {
                    "output_type": "execute_result", 
                    "data": {
                        "text/html": "<div>\n<style scoped>\n    .dataframe tbody tr th:only-of-type {\n        vertical-align: middle;\n    }\n\n    .dataframe tbody tr th {\n        vertical-align: top;\n    }\n\n    .dataframe thead th {\n        text-align: right;\n    }\n</style>\n<table border=\"1\" class=\"dataframe\">\n  <thead>\n    <tr style=\"text-align: right;\">\n      <th></th>\n      <th>A</th>\n      <th>B</th>\n      <th>C</th>\n      <th>D</th>\n    </tr>\n  </thead>\n  <tbody>\n    <tr>\n      <th>2</th>\n      <td>7</td>\n      <td>blabla</td>\n      <td>2</td>\n      <td>1</td>\n    </tr>\n    <tr>\n      <th>3</th>\n      <td>8</td>\n      <td>blabla</td>\n      <td>1</td>\n      <td>1</td>\n    </tr>\n    <tr>\n      <th>4</th>\n      <td>9</td>\n      <td>blabla</td>\n      <td>0</td>\n      <td>1</td>\n    </tr>\n  </tbody>\n</table>\n</div>", 
                        "text/plain": "   A       B  C  D\n2  7  blabla  2  1\n3  8  blabla  1  1\n4  9  blabla  0  1"
                    }, 
                    "execution_count": 51, 
                    "metadata": {}
                }
            ], 
            "metadata": {}
        }, 
        {
            "source": "\u03a4\u03bf pandas \u03c0\u03b1\u03c1\u03ad\u03c7\u03b5\u03b9 \u03ba\u03b1\u03b9 \u03c4\u03b9\u03c2 \u03b4\u03b9\u03ba\u03ad\u03c2 \u03c4\u03bf\u03c5 \u03c3\u03c5\u03bd\u03b1\u03c1\u03c4\u03ae\u03c3\u03b5\u03b9\u03c2 \u03b3\u03b9\u03b1 \u03b5\u03b3\u03b3\u03c1\u03b1\u03c6\u03ae \u03ba\u03b1\u03b9 \u03b1\u03bd\u03ac\u03b3\u03bd\u03c9\u03c3\u03b7 \u03b1\u03c0\u03bf csv (`to_csv()` \u03ba\u03b1\u03b9 `read_csv()` \u03b1\u03bd\u03c4\u03af\u03c3\u03c4\u03bf\u03b9\u03c7\u03b1). \u03a0\u03c1\u03bf\u03c3\u03bf\u03c7\u03ae \u03b8\u03ad\u03bb\u03b5\u03b9 \u03c4\u03bf \u03b4\u03b5\u03cd\u03c4\u03b5\u03c1\u03bf \u03b3\u03b9\u03b1\u03c4\u03af \u03c4\u03bf pandas \u03b8\u03b5\u03c9\u03c1\u03b5\u03af \u03cc\u03c4\u03b9 \u03b1\u03c0\u03cc default \u03b7 \u03c0\u03c1\u03ce\u03c4\u03b7 \u03b3\u03c1\u03b1\u03bc\u03bc\u03ae \u03b5\u03af\u03bd\u03b1\u03b9 \u03c4\u03b1 \u03bf\u03bd\u03cc\u03bc\u03b1\u03c4\u03b1 \u03c4\u03c9\u03bd \u03c3\u03c4\u03b7\u03bb\u03ce\u03bd. \u0391\u03bd \u03c4\u03bf csv \u03bc\u03b1\u03c2 \u03ad\u03c7\u03b5\u03b9 (\u03cc\u03c0\u03c9\u03c2 \u03c3\u03c4\u03b7\u03bd \u03c0\u03c1\u03bf\u03b7\u03b3\u03bf\u03cd\u03bc\u03b5\u03bd\u03b7 \u03c0\u03b5\u03c1\u03af\u03c0\u03c4\u03c9\u03c3\u03b7 \u03bc\u03b5 \u03c4\u03bf numpy) \u03bc\u03cc\u03bd\u03bf \u03c4\u03b9\u03bc\u03ad\u03c2, \u03c0\u03c1\u03ad\u03c0\u03b5\u03b9 \u03bd\u03b1 \u03bf\u03c1\u03af\u03c3\u03bf\u03c5\u03bc\u03b5 `header=None` \u03c9\u03c2 \u03b5\u03c0\u03b9\u03c0\u03bb\u03ad\u03bf\u03bd \u03c0\u03b1\u03c1\u03ac\u03bc\u03b5\u03c4\u03c1\u03bf \u03c4\u03b7\u03c2 \u03c3\u03c5\u03bd\u03ac\u03c1\u03c4\u03b7\u03c3\u03b7\u03c2. ", 
            "cell_type": "markdown", 
            "metadata": {}
        }
    ], 
    "nbformat": 4, 
    "metadata": {
        "kernelspec": {
            "display_name": "Python 2 with Spark 1.6 (Unsupported)", 
            "name": "python2", 
            "language": "python"
        }, 
        "language_info": {
            "mimetype": "text/x-python", 
            "nbconvert_exporter": "python", 
            "version": "2.7.11", 
            "name": "python", 
            "pygments_lexer": "ipython2", 
            "file_extension": ".py", 
            "codemirror_mode": {
                "version": 2, 
                "name": "ipython"
            }
        }
    }
}