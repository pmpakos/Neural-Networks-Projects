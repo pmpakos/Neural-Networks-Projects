{
    "nbformat_minor": 1, 
    "cells": [
        {
            "source": "# \u0386\u03c3\u03ba\u03b7\u03c3\u03b7: \u03a3\u03cd\u03b3\u03ba\u03c1\u03b9\u03c3\u03b7 \u03c4\u03bf\u03c5 Gausian Naive Bayes \u03ba\u03b1\u03b9 \u03c4\u03bf\u03c5 kNN \u03c3\u03c4o Pima Indians Diabetes dataset\n![1889 Photograph shows half-length portrait of two Pima Indians, facing front, wearing bead necklaces.](https://i.pinimg.com/236x/60/05/76/600576905d4ad5bb1a9c3e3387b397ca--pima-indians-native-american-indians.jpg \"1889 Photograph shows half-length portrait of two Pima Indians, facing front, wearing bead necklaces.\")\n\n1. \u0394\u03b9\u03b1\u03b2\u03ac\u03c3\u03c4\u03b5 \u03c4\u03bf \"pima-indians-diabetes.data\" \u03c3\u03b5 \u03ad\u03bd\u03b1 numpy array data \u03ba\u03b1\u03b9 \u03be\u03b5\u03c7\u03c9\u03c1\u03af\u03c3\u03c4\u03b5 features \u03ba\u03b1\u03b9 labels.\n2. \u0393\u03b9\u03b1 40% test set: \u03b1) \u03c5\u03c0\u03bf\u03bb\u03bf\u03b3\u03af\u03c3\u03c4\u03b5 \u03c4\u03b7\u03bd \u03c0\u03c1\u03cc\u03b2\u03bb\u03b5\u03c8\u03b7 \u03c4\u03bf\u03c5 Gaussian Naive Bayes \u03bc\u03b5 \u03c4\u03b7 \u03bc\u03ad\u03b8\u03bf\u03b4\u03bf predict(). \u03b2) \u03c0\u03ac\u03c1\u03c4\u03b5 \u03c4\u03b9\u03c2 \u03c0\u03c1\u03bf\u03b2\u03bb\u03ad\u03c8\u03b5\u03b9\u03c2 \u03b5\u03bd\u03cc\u03c2 kNN \u03bc\u03b5 k=5 \u03b2) \u0393\u03b9\u03b1 \u03ad\u03bd\u03b1\u03bd \u03c4\u03b1\u03be\u03b9\u03bd\u03bf\u03bc\u03b7\u03c4\u03ae kNN, \u03bc\u03b5 10-fold cross validation \u03ba\u03b1\u03b9 \u03bc\u03b5 \u03bc\u03b5\u03c4\u03c1\u03b9\u03ba\u03ae 'f1_weighted' \u03c5\u03c0\u03bf\u03bb\u03bf\u03b3\u03af\u03c3\u03c4\u03b5 \u03c4\u03bf \u03b2\u03ad\u03bb\u03c4\u03b9\u03c3\u03c4\u03bf k \u03c3\u03c4\u03bf train set (maximum k=50). \u03b3) \u03b5\u03ba\u03c4\u03c5\u03c0\u03ce\u03c3\u03c4\u03b5 \u03bc\u03b5 \u03c4\u03b7\u03bd \"classification_report\" \u03c4\u03b1 precision, recall, f1, support \u03b3\u03b9\u03b1 \u03c4\u03bf\u03bd NB, \u03c4\u03bf\u03bd kNN \u03bc\u03b5 k=5 \u03ba\u03b1\u03b9 \u03bc\u03b5 \u03c4\u03bf k \u03c0\u03bf\u03c5 \u03ad\u03c7\u03b5\u03b9 \u03c0\u03c1\u03bf\u03ba\u03cd\u03c8\u03b5\u03b9 \u03b1\u03c0\u03cc cross validation.\n3. \u039a\u03ac\u03bd\u03c4\u03b5 3 runs \u03ba\u03b1\u03b9 \u03b1\u03c0\u03bf\u03b8\u03b7\u03ba\u03b5\u03cd\u03c3\u03c4\u03b5 \u03c3\u03b5 \u03ad\u03bd\u03b1 \u03ba\u03b5\u03bb\u03af markdown \u03c4\u03bf average F1 \u03c4\u03bf\u03c5 non optimized \u03ba\u03b1\u03b9 \u03c4\u03bf\u03c5 optimized kNN. \u03a0\u03cc\u03c3\u03bf % \u03ad\u03c7\u03b5\u03b9 \u03b2\u03b5\u03bb\u03c4\u03b9\u03b2\u03c9\u03b8\u03b5\u03af \u03b7 \u03b5\u03c0\u03af\u03b4\u03bf\u03c3\u03ae \u03c4\u03bf\u03c5;", 
            "cell_type": "markdown", 
            "metadata": {
                "collapsed": true
            }
        }, 
        {
            "source": "", 
            "cell_type": "code", 
            "execution_count": null, 
            "outputs": [], 
            "metadata": {
                "collapsed": true
            }
        }
    ], 
    "nbformat": 4, 
    "metadata": {
        "kernelspec": {
            "display_name": "Python 2 with Spark 2.1", 
            "name": "python2-spark21", 
            "language": "python"
        }, 
        "language_info": {
            "mimetype": "text/x-python", 
            "nbconvert_exporter": "python", 
            "version": "2.7.11", 
            "name": "python", 
            "pygments_lexer": "ipython2", 
            "file_extension": ".py", 
            "codemirror_mode": {
                "version": 2, 
                "name": "ipython"
            }
        }
    }
}